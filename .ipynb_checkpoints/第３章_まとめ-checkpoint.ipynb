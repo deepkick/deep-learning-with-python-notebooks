{
 "cells": [
  {
   "cell_type": "markdown",
   "metadata": {},
   "source": [
    "# 第３章　入門：ニューラルネットワーク\n",
    "・映画レビューを肯定的なものと否定的なものに分割する（二値分類）  \n",
    "・ニュース配信をトピックごとに分類する（多クラス分類）  \n",
    "・不動産データに基づいて住宅価格を予測する（回帰）  "
   ]
  },
  {
   "cell_type": "markdown",
   "metadata": {},
   "source": [
    "## 3.2.2 速習：Kerasを使った開発\n",
    "Kerasの標準的なワークフロー  \n",
    "\n",
    "1. 訓練データ（入力テンソルと出力テンソル）を定義する。\n",
    "2. 入力値を目的値にマッピングする複数の層からなるネットワーク（モデル）を定義する。\n",
    "3. 損失関数、オプティマイザ、監視する指標を選択（学習プロセスの設定）する。\n",
    "4. モデルのfit()を呼び出すことで、訓練データを繰り返し学習する。  \n",
    "\n"
   ]
  },
  {
   "cell_type": "code",
   "execution_count": null,
   "metadata": {},
   "outputs": [],
   "source": []
  }
 ],
 "metadata": {
  "kernelspec": {
   "display_name": "Python 3",
   "language": "python",
   "name": "python3"
  },
  "language_info": {
   "codemirror_mode": {
    "name": "ipython",
    "version": 3
   },
   "file_extension": ".py",
   "mimetype": "text/x-python",
   "name": "python",
   "nbconvert_exporter": "python",
   "pygments_lexer": "ipython3",
   "version": "3.6.7"
  }
 },
 "nbformat": 4,
 "nbformat_minor": 2
}
