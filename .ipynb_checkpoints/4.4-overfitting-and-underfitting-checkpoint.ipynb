{
 "cells": [
  {
   "cell_type": "code",
   "execution_count": 1,
   "metadata": {},
   "outputs": [
    {
     "name": "stderr",
     "output_type": "stream",
     "text": [
      "Using TensorFlow backend.\n"
     ]
    },
    {
     "data": {
      "text/plain": [
       "'2.2.2'"
      ]
     },
     "execution_count": 1,
     "metadata": {},
     "output_type": "execute_result"
    }
   ],
   "source": [
    "import keras\n",
    "keras.__version__"
   ]
  },
  {
   "cell_type": "markdown",
   "metadata": {},
   "source": [
    "### 4.4 過学習と学習不足  \n",
    "\n",
    "第3章では、映画レビュー、トピック分類、住宅価格の回帰の３つの例を取り上げた。  \n",
    "どの例において、モデルの検証データでの性能は、数エポック後にピークを迎え、それ以降は低下していった。つまり、モデルはすぐに訓練データの過学習に陥っていた。  \n",
    "機械学習の根本的な課題は、最適化と汎化の間の緊張にある。**最適化**とは、訓練データでの性能をできるだけ高めるためにモデルを調整するプロセスのことであり、機械学習の「学習」にあたる。  \n",
    "これに対し、**汎化**とは、学習済みモデルをまったく新しいデータに適用したときの性能がどれくらいよいかを表す。汎化を制御することはできない。できることは、訓練データにもとづいてモデルを調整することだけである。  \n",
    "\n",
    "過学習を克服するプロセスは、正則化（regularization）と呼ぶ。\n",
    "***"
   ]
  },
  {
   "cell_type": "markdown",
   "metadata": {},
   "source": [
    "# Overfitting and underfitting\n",
    "\n",
    "This notebook contains the code samples found in Chapter 3, Section 6 of [Deep Learning with Python](https://www.manning.com/books/deep-learning-with-python?a_aid=keras&a_bid=76564dff). Note that the original text features far more content, in particular further explanations and figures: in this notebook, you will only find source code and related comments.\n",
    "\n",
    "----\n",
    "\n",
    "\n",
    "In all the examples we saw in the previous chapter -- movie review sentiment prediction, topic classification, and house price regression -- \n",
    "we could notice that the performance of our model on the held-out validation data would always peak after a few epochs and would then start \n",
    "degrading, i.e. our model would quickly start to _overfit_ to the training data. Overfitting happens in every single machine learning \n",
    "problem. Learning how to deal with overfitting is essential to mastering machine learning.\n",
    "\n",
    "The fundamental issue in machine learning is the tension between optimization and generalization. \"Optimization\" refers to the process of \n",
    "adjusting a model to get the best performance possible on the training data (the \"learning\" in \"machine learning\"), while \"generalization\" \n",
    "refers to how well the trained model would perform on data it has never seen before. The goal of the game is to get good generalization, of \n",
    "course, but you do not control generalization; you can only adjust the model based on its training data.\n",
    "\n",
    "At the beginning of training, optimization and generalization are correlated: the lower your loss on training data, the lower your loss on \n",
    "test data. While this is happening, your model is said to be _under-fit_: there is still progress to be made; the network hasn't yet \n",
    "modeled all relevant patterns in the training data. But after a certain number of iterations on the training data, generalization stops \n",
    "improving, validation metrics stall then start degrading: the model is then starting to over-fit, i.e. is it starting to learn patterns \n",
    "that are specific to the training data but that are misleading or irrelevant when it comes to new data.\n",
    "\n",
    "To prevent a model from learning misleading or irrelevant patterns found in the training data, _the best solution is of course to get \n",
    "more training data_. A model trained on more data will naturally generalize better. When that is no longer possible, the next best solution \n",
    "is to modulate the quantity of information that your model is allowed to store, or to add constraints on what information it is allowed to \n",
    "store. If a network can only afford to memorize a small number of patterns, the optimization process will force it to focus on the most \n",
    "prominent patterns, which have a better chance of generalizing well.\n",
    "\n",
    "The processing of fighting overfitting in this way is called _regularization_. Let's review some of the most common regularization \n",
    "techniques, and let's apply them in practice to improve our movie classification model from  the previous chapter."
   ]
  },
  {
   "cell_type": "markdown",
   "metadata": {},
   "source": [
    "Note: in this notebook we will be using the IMDB test set as our validation set. It doesn't matter in this context.\n",
    "\n",
    "Let's prepare the data using the code from Chapter 3, Section 5:"
   ]
  },
  {
   "cell_type": "code",
   "execution_count": 5,
   "metadata": {},
   "outputs": [
    {
     "name": "stdout",
     "output_type": "stream",
     "text": [
      "x_train.shape =  (25000, 10000)\n",
      "x_test.shape =  (25000, 10000)\n",
      "y_train.shape =  (25000,)\n",
      "y_test.shape =  (25000,)\n"
     ]
    }
   ],
   "source": [
    "from keras.datasets import imdb\n",
    "import numpy as np\n",
    "\n",
    "(train_data, train_labels), (test_data, test_labels) = imdb.load_data(num_words=10000)\n",
    "\n",
    "def vectorize_sequences(sequences, dimension=10000):\n",
    "    # Create an all-zero matrix of shape (len(sequences), dimension)\n",
    "    results = np.zeros((len(sequences), dimension))\n",
    "    for i, sequence in enumerate(sequences):\n",
    "        results[i, sequence] = 1.  # set specific indices of results[i] to 1s\n",
    "    return results\n",
    "\n",
    "# Our vectorized training data\n",
    "x_train = vectorize_sequences(train_data)\n",
    "# Our vectorized test data\n",
    "x_test = vectorize_sequences(test_data)\n",
    "# Our vectorized labels\n",
    "y_train = np.asarray(train_labels).astype('float32')\n",
    "y_test = np.asarray(test_labels).astype('float32')\n",
    "\n",
    "print('x_train.shape = ', x_train.shape) # (25000, 10000)\n",
    "print('x_test.shape = ', x_test.shape) # (25000, 10000)\n",
    "print('y_train.shape = ', y_train.shape) #  (25000,)\n",
    "print('y_test.shape = ', y_test.shape) #  (25000,)"
   ]
  },
  {
   "cell_type": "markdown",
   "metadata": {},
   "source": [
    "#### 4.4.1 ネットワークのサイズを削減する  \n",
    "過学習を回避するためのもっとも単純な方法は、モデルのサイズを小さくすることである。つまり、モデルの学習可能なパラメータの数を減らす。**学習可能なパラメータの数は、層の数と層１つあたりのユニットの数**によって決まる。Deep Learningでは、モデルの学習可能なパラメータの数を、よくモデルの**キャパシティ**（capacity）と呼ぶ。  \n",
    "パラメータの数が多いほど、モデルの記憶容量が増え、訓練サンプルとそれらの目的地との写像（マッピング）をまるで辞書のように学習できるが、マッピングは、汎化性能とは実は無関係である。Deep Learningのモデルは、訓練データにうまく適合する傾向にあるが、本当の課題は適合ではなく、汎化にある。  \n",
    "\n",
    "モデルの適切なサイズを割り出すための一般的なワークフローでは、比較的少ない数の層とパラメータから始めて、検証データセットでの損失値に関して収穫逓減が見られるまで、層のサイズを大きくするか、新しい層を追加していく。  \n",
    "\n",
    "***\n"
   ]
  },
  {
   "cell_type": "markdown",
   "metadata": {},
   "source": [
    "# Fighting overfitting\n",
    "\n",
    "## Reducing the network's size\n",
    "\n",
    "\n",
    "The simplest way to prevent overfitting is to reduce the size of the model, i.e. the number of learnable parameters in the model (which is \n",
    "determined by the number of layers and the number of units per layer). In deep learning, the number of learnable parameters in a model is \n",
    "often referred to as the model's \"capacity\". Intuitively, a model with more parameters will have more \"memorization capacity\" and therefore \n",
    "will be able to easily learn a perfect dictionary-like mapping between training samples and their targets, a mapping without any \n",
    "generalization power. For instance, a model with 500,000 binary parameters could easily be made to learn the class of every digits in the \n",
    "MNIST training set: we would only need 10 binary parameters for each of the 50,000 digits. Such a model would be useless for classifying \n",
    "new digit samples. Always keep this in mind: deep learning models tend to be good at fitting to the training data, but the real challenge \n",
    "is generalization, not fitting.\n",
    "\n",
    "On the other hand, if the network has limited memorization resources, it will not be able to learn this mapping as easily, and thus, in \n",
    "order to minimize its loss, it will have to resort to learning compressed representations that have predictive power regarding the targets \n",
    "-- precisely the type of representations that we are interested in. At the same time, keep in mind that you should be using models that have \n",
    "enough parameters that they won't be underfitting: your model shouldn't be starved for memorization resources. There is a compromise to be \n",
    "found between \"too much capacity\" and \"not enough capacity\".\n",
    "\n",
    "Unfortunately, there is no magical formula to determine what the right number of layers is, or what the right size for each layer is. You \n",
    "will have to evaluate an array of different architectures (on your validation set, not on your test set, of course) in order to find the \n",
    "right model size for your data. The general workflow to find an appropriate model size is to start with relatively few layers and \n",
    "parameters, and start increasing the size of the layers or adding new layers until you see diminishing returns with regard to the \n",
    "validation loss.\n",
    "\n",
    "Let's try this on our movie review classification network. Our original network was as such:"
   ]
  },
  {
   "cell_type": "code",
   "execution_count": 6,
   "metadata": {},
   "outputs": [],
   "source": [
    "# 元のモデル\n",
    "from keras import models\n",
    "from keras import layers\n",
    "\n",
    "original_model = models.Sequential()\n",
    "original_model.add(layers.Dense(16, activation='relu', input_shape=(10000,)))\n",
    "original_model.add(layers.Dense(16, activation='relu'))\n",
    "original_model.add(layers.Dense(1, activation='sigmoid'))\n",
    "\n",
    "original_model.compile(optimizer='rmsprop',\n",
    "                       loss='binary_crossentropy',\n",
    "                       metrics=['acc'])"
   ]
  },
  {
   "cell_type": "markdown",
   "metadata": {},
   "source": [
    "Now let's try to replace it with this smaller network:"
   ]
  },
  {
   "cell_type": "code",
   "execution_count": 7,
   "metadata": {},
   "outputs": [],
   "source": [
    "# キャパシティが小さいモデル\n",
    "smaller_model = models.Sequential()\n",
    "smaller_model.add(layers.Dense(4, activation='relu', input_shape=(10000,)))\n",
    "smaller_model.add(layers.Dense(4, activation='relu'))\n",
    "smaller_model.add(layers.Dense(1, activation='sigmoid'))\n",
    "\n",
    "smaller_model.compile(optimizer='rmsprop',\n",
    "                      loss='binary_crossentropy',\n",
    "                      metrics=['acc'])"
   ]
  },
  {
   "cell_type": "markdown",
   "metadata": {},
   "source": [
    "\n",
    "Here's a comparison of the validation losses of the original network and the smaller network. The dots are the validation loss values of \n",
    "the smaller network, and the crosses are the initial network (remember: a lower validation loss signals a better model)."
   ]
  },
  {
   "cell_type": "code",
   "execution_count": 8,
   "metadata": {},
   "outputs": [
    {
     "name": "stdout",
     "output_type": "stream",
     "text": [
      "Train on 25000 samples, validate on 25000 samples\n",
      "Epoch 1/20\n",
      "25000/25000 [==============================] - 13s 516us/step - loss: 0.4440 - acc: 0.8251 - val_loss: 0.3286 - val_acc: 0.8835\n",
      "Epoch 2/20\n",
      "25000/25000 [==============================] - 12s 464us/step - loss: 0.2572 - acc: 0.9078 - val_loss: 0.2864 - val_acc: 0.8883\n",
      "Epoch 3/20\n",
      "25000/25000 [==============================] - 9s 372us/step - loss: 0.1993 - acc: 0.9290 - val_loss: 0.2821 - val_acc: 0.8891\n",
      "Epoch 4/20\n",
      "25000/25000 [==============================] - 9s 347us/step - loss: 0.1668 - acc: 0.9412 - val_loss: 0.2941 - val_acc: 0.8846\n",
      "Epoch 5/20\n",
      "25000/25000 [==============================] - 10s 405us/step - loss: 0.1437 - acc: 0.9501 - val_loss: 0.3115 - val_acc: 0.8804\n",
      "Epoch 6/20\n",
      "25000/25000 [==============================] - 9s 346us/step - loss: 0.1262 - acc: 0.9558 - val_loss: 0.3485 - val_acc: 0.8722\n",
      "Epoch 7/20\n",
      "25000/25000 [==============================] - 8s 333us/step - loss: 0.1112 - acc: 0.9616 - val_loss: 0.3589 - val_acc: 0.8731\n",
      "Epoch 8/20\n",
      "25000/25000 [==============================] - 8s 328us/step - loss: 0.0982 - acc: 0.9666 - val_loss: 0.3965 - val_acc: 0.8659\n",
      "Epoch 9/20\n",
      "25000/25000 [==============================] - 9s 357us/step - loss: 0.0850 - acc: 0.9717 - val_loss: 0.4366 - val_acc: 0.8607\n",
      "Epoch 10/20\n",
      "25000/25000 [==============================] - 12s 485us/step - loss: 0.0761 - acc: 0.9757 - val_loss: 0.5033 - val_acc: 0.8524\n",
      "Epoch 11/20\n",
      "25000/25000 [==============================] - 10s 381us/step - loss: 0.0694 - acc: 0.9775 - val_loss: 0.4888 - val_acc: 0.8592\n",
      "Epoch 12/20\n",
      "25000/25000 [==============================] - 9s 350us/step - loss: 0.0573 - acc: 0.9828 - val_loss: 0.5215 - val_acc: 0.8563\n",
      "Epoch 13/20\n",
      "25000/25000 [==============================] - 9s 346us/step - loss: 0.0522 - acc: 0.9842 - val_loss: 0.5345 - val_acc: 0.8583\n",
      "Epoch 14/20\n",
      "25000/25000 [==============================] - 9s 352us/step - loss: 0.0434 - acc: 0.9875 - val_loss: 0.5985 - val_acc: 0.8512\n",
      "Epoch 15/20\n",
      "25000/25000 [==============================] - 8s 335us/step - loss: 0.0374 - acc: 0.9889 - val_loss: 0.6075 - val_acc: 0.8551\n",
      "Epoch 16/20\n",
      "25000/25000 [==============================] - 9s 352us/step - loss: 0.0316 - acc: 0.9908 - val_loss: 0.6433 - val_acc: 0.8530\n",
      "Epoch 17/20\n",
      "25000/25000 [==============================] - 9s 370us/step - loss: 0.0263 - acc: 0.9927 - val_loss: 0.7056 - val_acc: 0.8498\n",
      "Epoch 18/20\n",
      "25000/25000 [==============================] - 9s 365us/step - loss: 0.0215 - acc: 0.9950 - val_loss: 0.7248 - val_acc: 0.8509\n",
      "Epoch 19/20\n",
      "25000/25000 [==============================] - 9s 344us/step - loss: 0.0234 - acc: 0.9937 - val_loss: 0.7535 - val_acc: 0.8505\n",
      "Epoch 20/20\n",
      "25000/25000 [==============================] - 8s 332us/step - loss: 0.0144 - acc: 0.9965 - val_loss: 0.9304 - val_acc: 0.8357\n"
     ]
    }
   ],
   "source": [
    "original_hist = original_model.fit(x_train, y_train,\n",
    "                                   epochs=20,\n",
    "                                   batch_size=512,\n",
    "                                   validation_data=(x_test, y_test))"
   ]
  },
  {
   "cell_type": "code",
   "execution_count": 9,
   "metadata": {},
   "outputs": [
    {
     "name": "stdout",
     "output_type": "stream",
     "text": [
      "Train on 25000 samples, validate on 25000 samples\n",
      "Epoch 1/20\n",
      "25000/25000 [==============================] - 6s 240us/step - loss: 0.5804 - acc: 0.7030 - val_loss: 0.5307 - val_acc: 0.7576\n",
      "Epoch 2/20\n",
      "25000/25000 [==============================] - 5s 193us/step - loss: 0.4843 - acc: 0.8453 - val_loss: 0.4872 - val_acc: 0.8300\n",
      "Epoch 3/20\n",
      "25000/25000 [==============================] - 5s 208us/step - loss: 0.4388 - acc: 0.8926 - val_loss: 0.4656 - val_acc: 0.8520\n",
      "Epoch 4/20\n",
      "25000/25000 [==============================] - 6s 229us/step - loss: 0.4077 - acc: 0.9156 - val_loss: 0.4541 - val_acc: 0.8626\n",
      "Epoch 5/20\n",
      "25000/25000 [==============================] - 5s 190us/step - loss: 0.3831 - acc: 0.9308 - val_loss: 0.4512 - val_acc: 0.8622\n",
      "Epoch 6/20\n",
      "25000/25000 [==============================] - 5s 184us/step - loss: 0.3621 - acc: 0.9412 - val_loss: 0.4428 - val_acc: 0.8724\n",
      "Epoch 7/20\n",
      "25000/25000 [==============================] - 5s 190us/step - loss: 0.3426 - acc: 0.9510 - val_loss: 0.4513 - val_acc: 0.8667\n",
      "Epoch 8/20\n",
      "25000/25000 [==============================] - 5s 195us/step - loss: 0.3262 - acc: 0.9564 - val_loss: 0.4552 - val_acc: 0.8666\n",
      "Epoch 9/20\n",
      "25000/25000 [==============================] - 5s 196us/step - loss: 0.3100 - acc: 0.9614 - val_loss: 0.4737 - val_acc: 0.8606\n",
      "Epoch 10/20\n",
      "25000/25000 [==============================] - 5s 198us/step - loss: 0.2956 - acc: 0.9659 - val_loss: 0.4622 - val_acc: 0.8659\n",
      "Epoch 11/20\n",
      "25000/25000 [==============================] - 5s 189us/step - loss: 0.2817 - acc: 0.9689 - val_loss: 0.4886 - val_acc: 0.8604\n",
      "Epoch 12/20\n",
      "25000/25000 [==============================] - 6s 241us/step - loss: 0.2691 - acc: 0.9718 - val_loss: 0.4877 - val_acc: 0.8609\n",
      "Epoch 13/20\n",
      "25000/25000 [==============================] - 6s 221us/step - loss: 0.2569 - acc: 0.9743 - val_loss: 0.5198 - val_acc: 0.8574\n",
      "Epoch 14/20\n",
      "25000/25000 [==============================] - 5s 206us/step - loss: 0.2451 - acc: 0.9773 - val_loss: 0.5436 - val_acc: 0.8549\n",
      "Epoch 15/20\n",
      "25000/25000 [==============================] - 5s 199us/step - loss: 0.2345 - acc: 0.9782 - val_loss: 0.5217 - val_acc: 0.8595\n",
      "Epoch 16/20\n",
      "25000/25000 [==============================] - 5s 197us/step - loss: 0.2239 - acc: 0.9804 - val_loss: 0.5493 - val_acc: 0.8565\n",
      "Epoch 17/20\n",
      "25000/25000 [==============================] - 5s 200us/step - loss: 0.2146 - acc: 0.9808 - val_loss: 0.5968 - val_acc: 0.8521\n",
      "Epoch 18/20\n",
      "25000/25000 [==============================] - 5s 195us/step - loss: 0.2050 - acc: 0.9827 - val_loss: 0.6224 - val_acc: 0.8515\n",
      "Epoch 19/20\n",
      "25000/25000 [==============================] - 5s 194us/step - loss: 0.1962 - acc: 0.9834 - val_loss: 0.5724 - val_acc: 0.8540\n",
      "Epoch 20/20\n",
      "25000/25000 [==============================] - 5s 182us/step - loss: 0.1887 - acc: 0.9840 - val_loss: 0.6000 - val_acc: 0.8519\n"
     ]
    }
   ],
   "source": [
    "smaller_model_hist = smaller_model.fit(x_train, y_train,\n",
    "                                       epochs=20,\n",
    "                                       batch_size=512,\n",
    "                                       validation_data=(x_test, y_test))"
   ]
  },
  {
   "cell_type": "code",
   "execution_count": 10,
   "metadata": {},
   "outputs": [],
   "source": [
    "epochs = range(1, 21)\n",
    "original_val_loss = original_hist.history['val_loss']\n",
    "smaller_model_val_loss = smaller_model_hist.history['val_loss']"
   ]
  },
  {
   "cell_type": "code",
   "execution_count": 12,
   "metadata": {},
   "outputs": [
    {
     "data": {
      "image/png": "[encoded data removed]",
      "text/plain": [
       "<Figure size 432x288 with 1 Axes>"
      ]
     },
     "metadata": {
      "needs_background": "light"
     },
     "output_type": "display_data"
    }
   ],
   "source": [
    "import matplotlib.pyplot as plt\n",
    "\n",
    "# b+ is for \"blue cross\"\n",
    "plt.plot(epochs, original_val_loss, 'b+', label='Original model')\n",
    "# \"bo\" is for \"blue dot\"\n",
    "plt.plot(epochs, smaller_model_val_loss, 'bo', label='Smaller model')\n",
    "plt.xlabel('Epochs')\n",
    "plt.ylabel('Validation loss')\n",
    "plt.legend()\n",
    "\n",
    "plt.show()"
   ]
  },
  {
   "cell_type": "markdown",
   "metadata": {},
   "source": [
    "\n",
    "As you can see, the smaller network starts overfitting later than the reference one (after 6 epochs rather than 4) and its performance \n",
    "degrades much more slowly once it starts overfitting.\n",
    "\n",
    "Now, for kicks, let's add to this benchmark a network that has much more capacity, far more than the problem would warrant:"
   ]
  },
  {
   "cell_type": "code",
   "execution_count": 13,
   "metadata": {},
   "outputs": [],
   "source": [
    "bigger_model = models.Sequential()\n",
    "bigger_model.add(layers.Dense(512, activation='relu', input_shape=(10000,)))\n",
    "bigger_model.add(layers.Dense(512, activation='relu'))\n",
    "bigger_model.add(layers.Dense(1, activation='sigmoid'))\n",
    "\n",
    "bigger_model.compile(optimizer='rmsprop',\n",
    "                     loss='binary_crossentropy',\n",
    "                     metrics=['acc'])"
   ]
  },
  {
   "cell_type": "code",
   "execution_count": 14,
   "metadata": {},
   "outputs": [
    {
     "name": "stdout",
     "output_type": "stream",
     "text": [
      "Train on 25000 samples, validate on 25000 samples\n",
      "Epoch 1/20\n",
      "25000/25000 [==============================] - 175s 7ms/step - loss: 0.4579 - acc: 0.7968 - val_loss: 0.4271 - val_acc: 0.8166\n",
      "Epoch 2/20\n",
      "25000/25000 [==============================] - 177s 7ms/step - loss: 0.2251 - acc: 0.9094 - val_loss: 0.2752 - val_acc: 0.8888\n",
      "Epoch 3/20\n",
      "25000/25000 [==============================] - 175s 7ms/step - loss: 0.1283 - acc: 0.9526 - val_loss: 0.5985 - val_acc: 0.7848\n",
      "Epoch 4/20\n",
      "25000/25000 [==============================] - 173s 7ms/step - loss: 0.0663 - acc: 0.9808 - val_loss: 0.4352 - val_acc: 0.8811\n",
      "Epoch 5/20\n",
      "25000/25000 [==============================] - 172s 7ms/step - loss: 0.1084 - acc: 0.9833 - val_loss: 0.4531 - val_acc: 0.8806\n",
      "Epoch 6/20\n",
      "25000/25000 [==============================] - 172s 7ms/step - loss: 0.0022 - acc: 0.9998 - val_loss: 0.6179 - val_acc: 0.8800\n",
      "Epoch 7/20\n",
      "25000/25000 [==============================] - 172s 7ms/step - loss: 2.9346e-04 - acc: 1.0000 - val_loss: 0.7832 - val_acc: 0.8786\n",
      "Epoch 8/20\n",
      "25000/25000 [==============================] - 171s 7ms/step - loss: 0.1023 - acc: 0.9891 - val_loss: 0.7185 - val_acc: 0.8782\n",
      "Epoch 9/20\n",
      "25000/25000 [==============================] - 172s 7ms/step - loss: 0.0778 - acc: 0.9897 - val_loss: 0.7358 - val_acc: 0.8657\n",
      "Epoch 10/20\n",
      "25000/25000 [==============================] - 171s 7ms/step - loss: 3.0352e-04 - acc: 1.0000 - val_loss: 0.7655 - val_acc: 0.8743\n",
      "Epoch 11/20\n",
      "25000/25000 [==============================] - 171s 7ms/step - loss: 3.5738e-05 - acc: 1.0000 - val_loss: 0.8402 - val_acc: 0.8769\n",
      "Epoch 12/20\n",
      "25000/25000 [==============================] - 172s 7ms/step - loss: 0.0894 - acc: 0.9901 - val_loss: 0.7652 - val_acc: 0.8748\n",
      "Epoch 13/20\n",
      "25000/25000 [==============================] - 170s 7ms/step - loss: 2.8432e-04 - acc: 1.0000 - val_loss: 0.8044 - val_acc: 0.8784\n",
      "Epoch 14/20\n",
      "25000/25000 [==============================] - 176s 7ms/step - loss: 8.7587e-06 - acc: 1.0000 - val_loss: 0.8383 - val_acc: 0.8788\n",
      "Epoch 15/20\n",
      "25000/25000 [==============================] - 173s 7ms/step - loss: 2.7696e-06 - acc: 1.0000 - val_loss: 0.9027 - val_acc: 0.8789\n",
      "Epoch 16/20\n",
      "25000/25000 [==============================] - 170s 7ms/step - loss: 7.0689e-07 - acc: 1.0000 - val_loss: 0.9720 - val_acc: 0.8774\n",
      "Epoch 17/20\n",
      "25000/25000 [==============================] - 168s 7ms/step - loss: 2.3252e-07 - acc: 1.0000 - val_loss: 1.0236 - val_acc: 0.8786\n",
      "Epoch 18/20\n",
      "25000/25000 [==============================] - 169s 7ms/step - loss: 1.3485e-07 - acc: 1.0000 - val_loss: 1.0566 - val_acc: 0.8786\n",
      "Epoch 19/20\n",
      "25000/25000 [==============================] - 168s 7ms/step - loss: 1.1955e-07 - acc: 1.0000 - val_loss: 1.0717 - val_acc: 0.8783\n",
      "Epoch 20/20\n",
      "25000/25000 [==============================] - 167s 7ms/step - loss: 1.1499e-07 - acc: 1.0000 - val_loss: 1.0806 - val_acc: 0.8784\n"
     ]
    }
   ],
   "source": [
    "bigger_model_hist = bigger_model.fit(x_train, y_train,\n",
    "                                     epochs=20,\n",
    "                                     batch_size=512,\n",
    "                                     validation_data=(x_test, y_test))"
   ]
  },
  {
   "cell_type": "markdown",
   "metadata": {},
   "source": [
    "Here's how the bigger network fares compared to the reference one. The dots are the validation loss values of the bigger network, and the \n",
    "crosses are the initial network."
   ]
  },
  {
   "cell_type": "code",
   "execution_count": 15,
   "metadata": {},
   "outputs": [
    {
     "data": {
      "image/png": "[encoded data removed]",
      "text/plain": [
       "<Figure size 432x288 with 1 Axes>"
      ]
     },
     "metadata": {
      "needs_background": "light"
     },
     "output_type": "display_data"
    }
   ],
   "source": [
    "bigger_model_val_loss = bigger_model_hist.history['val_loss']\n",
    "\n",
    "plt.plot(epochs, original_val_loss, 'b+', label='Original model')\n",
    "plt.plot(epochs, bigger_model_val_loss, 'bo', label='Bigger model')\n",
    "plt.xlabel('Epochs')\n",
    "plt.ylabel('Validation loss')\n",
    "plt.legend()\n",
    "\n",
    "plt.show()"
   ]
  },
  {
   "cell_type": "markdown",
   "metadata": {},
   "source": [
    "\n",
    "The bigger network starts overfitting almost right away, after just one epoch, and overfits much more severely. Its validation loss is also \n",
    "more noisy.\n",
    "\n",
    "Meanwhile, here are the training losses for our two networks:"
   ]
  },
  {
   "cell_type": "code",
   "execution_count": 16,
   "metadata": {},
   "outputs": [
    {
     "data": {
      "image/png": "[encoded data removed]",
      "text/plain": [
       "<Figure size 432x288 with 1 Axes>"
      ]
     },
     "metadata": {
      "needs_background": "light"
     },
     "output_type": "display_data"
    }
   ],
   "source": [
    "original_train_loss = original_hist.history['loss']\n",
    "bigger_model_train_loss = bigger_model_hist.history['loss']\n",
    "\n",
    "plt.plot(epochs, original_train_loss, 'b+', label='Original model')\n",
    "plt.plot(epochs, bigger_model_train_loss, 'bo', label='Bigger model')\n",
    "plt.xlabel('Epochs')\n",
    "plt.ylabel('Training loss')\n",
    "plt.legend()\n",
    "\n",
    "plt.show()"
   ]
  },
  {
   "cell_type": "markdown",
   "metadata": {},
   "source": [
    "As you can see, the bigger network gets its training loss near zero very quickly. The more capacity the network has, the quicker it will be \n",
    "able to model the training data (resulting in a low training loss), but the more susceptible it is to overfitting (resulting in a large \n",
    "difference between the training and validation loss)."
   ]
  },
  {
   "cell_type": "markdown",
   "metadata": {},
   "source": [
    "## Adding weight regularization\n",
    "\n",
    "\n",
    "You may be familiar with _Occam's Razor_ principle: given two explanations for something, the explanation most likely to be correct is the \n",
    "\"simplest\" one, the one that makes the least amount of assumptions. This also applies to the models learned by neural networks: given some \n",
    "training data and a network architecture, there are multiple sets of weights values (multiple _models_) that could explain the data, and \n",
    "simpler models are less likely to overfit than complex ones.\n",
    "\n",
    "A \"simple model\" in this context is a model where the distribution of parameter values has less entropy (or a model with fewer \n",
    "parameters altogether, as we saw in the section above). Thus a common way to mitigate overfitting is to put constraints on the complexity \n",
    "of a network by forcing its weights to only take small values, which makes the distribution of weight values more \"regular\". This is called \n",
    "\"weight regularization\", and it is done by adding to the loss function of the network a _cost_ associated with having large weights. This \n",
    "cost comes in two flavors:\n",
    "\n",
    "* L1 regularization, where the cost added is proportional to the _absolute value of the weights coefficients_ (i.e. to what is called the \n",
    "\"L1 norm\" of the weights).\n",
    "* L2 regularization, where the cost added is proportional to the _square of the value of the weights coefficients_ (i.e. to what is called \n",
    "the \"L2 norm\" of the weights). L2 regularization is also called _weight decay_ in the context of neural networks. Don't let the different \n",
    "name confuse you: weight decay is mathematically the exact same as L2 regularization.\n",
    "\n",
    "In Keras, weight regularization is added by passing _weight regularizer instances_ to layers as keyword arguments. Let's add L2 weight \n",
    "regularization to our movie review classification network:"
   ]
  },
  {
   "cell_type": "code",
   "execution_count": 17,
   "metadata": {},
   "outputs": [],
   "source": [
    "from keras import regularizers\n",
    "\n",
    "l2_model = models.Sequential()\n",
    "l2_model.add(layers.Dense(16, kernel_regularizer=regularizers.l2(0.001),\n",
    "                          activation='relu', input_shape=(10000,)))\n",
    "l2_model.add(layers.Dense(16, kernel_regularizer=regularizers.l2(0.001),\n",
    "                          activation='relu'))\n",
    "l2_model.add(layers.Dense(1, activation='sigmoid'))"
   ]
  },
  {
   "cell_type": "code",
   "execution_count": 18,
   "metadata": {},
   "outputs": [],
   "source": [
    "l2_model.compile(optimizer='rmsprop',\n",
    "                 loss='binary_crossentropy',\n",
    "                 metrics=['acc'])"
   ]
  },
  {
   "cell_type": "markdown",
   "metadata": {},
   "source": [
    "`l2(0.001)` means that every coefficient in the weight matrix of the layer will add `0.001 * weight_coefficient_value` to the total loss of \n",
    "the network. Note that because this penalty is _only added at training time_, the loss for this network will be much higher at training \n",
    "than at test time.\n",
    "\n",
    "Here's the impact of our L2 regularization penalty:"
   ]
  },
  {
   "cell_type": "code",
   "execution_count": 19,
   "metadata": {},
   "outputs": [
    {
     "name": "stdout",
     "output_type": "stream",
     "text": [
      "Train on 25000 samples, validate on 25000 samples\n",
      "Epoch 1/20\n",
      "25000/25000 [==============================] - 13s 516us/step - loss: 0.4879 - acc: 0.8152 - val_loss: 0.3895 - val_acc: 0.8656\n",
      "Epoch 2/20\n",
      "25000/25000 [==============================] - 11s 434us/step - loss: 0.3100 - acc: 0.9062 - val_loss: 0.3306 - val_acc: 0.8891\n",
      "Epoch 3/20\n",
      "25000/25000 [==============================] - 8s 334us/step - loss: 0.2658 - acc: 0.9201 - val_loss: 0.3307 - val_acc: 0.8869\n",
      "Epoch 4/20\n",
      "25000/25000 [==============================] - 8s 328us/step - loss: 0.2459 - acc: 0.9281 - val_loss: 0.3414 - val_acc: 0.8820\n",
      "Epoch 5/20\n",
      "25000/25000 [==============================] - 11s 454us/step - loss: 0.2324 - acc: 0.9350 - val_loss: 0.3806 - val_acc: 0.8688\n",
      "Epoch 6/20\n",
      "25000/25000 [==============================] - 9s 375us/step - loss: 0.2238 - acc: 0.9389 - val_loss: 0.3674 - val_acc: 0.8751\n",
      "Epoch 7/20\n",
      "25000/25000 [==============================] - 12s 495us/step - loss: 0.2172 - acc: 0.9411 - val_loss: 0.3751 - val_acc: 0.8734\n",
      "Epoch 8/20\n",
      "25000/25000 [==============================] - 11s 448us/step - loss: 0.2104 - acc: 0.9445 - val_loss: 0.3734 - val_acc: 0.8751\n",
      "Epoch 9/20\n",
      "25000/25000 [==============================] - 10s 395us/step - loss: 0.2044 - acc: 0.9461 - val_loss: 0.3761 - val_acc: 0.8753\n",
      "Epoch 10/20\n",
      "25000/25000 [==============================] - 8s 336us/step - loss: 0.2008 - acc: 0.9500 - val_loss: 0.3819 - val_acc: 0.8745\n",
      "Epoch 11/20\n",
      "25000/25000 [==============================] - 10s 386us/step - loss: 0.1949 - acc: 0.9490 - val_loss: 0.3837 - val_acc: 0.8755\n",
      "Epoch 12/20\n",
      "25000/25000 [==============================] - 9s 356us/step - loss: 0.1922 - acc: 0.9519 - val_loss: 0.3925 - val_acc: 0.8745\n",
      "Epoch 13/20\n",
      "25000/25000 [==============================] - 9s 344us/step - loss: 0.1874 - acc: 0.9542 - val_loss: 0.3981 - val_acc: 0.8729\n",
      "Epoch 14/20\n",
      "25000/25000 [==============================] - 9s 349us/step - loss: 0.1814 - acc: 0.9569 - val_loss: 0.4215 - val_acc: 0.8673\n",
      "Epoch 15/20\n",
      "25000/25000 [==============================] - 9s 368us/step - loss: 0.1815 - acc: 0.9576 - val_loss: 0.4474 - val_acc: 0.8595\n",
      "Epoch 16/20\n",
      "25000/25000 [==============================] - 8s 331us/step - loss: 0.1748 - acc: 0.9608 - val_loss: 0.4388 - val_acc: 0.8656\n",
      "Epoch 17/20\n",
      "25000/25000 [==============================] - 10s 382us/step - loss: 0.1702 - acc: 0.9615 - val_loss: 0.4209 - val_acc: 0.8706\n",
      "Epoch 18/20\n",
      "25000/25000 [==============================] - 10s 404us/step - loss: 0.1703 - acc: 0.9614 - val_loss: 0.4363 - val_acc: 0.8677\n",
      "Epoch 19/20\n",
      "25000/25000 [==============================] - 9s 341us/step - loss: 0.1621 - acc: 0.9669 - val_loss: 0.4436 - val_acc: 0.8649\n",
      "Epoch 20/20\n",
      "25000/25000 [==============================] - 9s 371us/step - loss: 0.1596 - acc: 0.9670 - val_loss: 0.4346 - val_acc: 0.8685\n"
     ]
    }
   ],
   "source": [
    "l2_model_hist = l2_model.fit(x_train, y_train,\n",
    "                             epochs=20,\n",
    "                             batch_size=512,\n",
    "                             validation_data=(x_test, y_test))"
   ]
  },
  {
   "cell_type": "code",
   "execution_count": 20,
   "metadata": {},
   "outputs": [
    {
     "data": {
      "image/png": "[encoded data removed]",
      "text/plain": [
       "<Figure size 432x288 with 1 Axes>"
      ]
     },
     "metadata": {
      "needs_background": "light"
     },
     "output_type": "display_data"
    }
   ],
   "source": [
    "l2_model_val_loss = l2_model_hist.history['val_loss']\n",
    "\n",
    "plt.plot(epochs, original_val_loss, 'b+', label='Original model')\n",
    "plt.plot(epochs, l2_model_val_loss, 'bo', label='L2-regularized model')\n",
    "plt.xlabel('Epochs')\n",
    "plt.ylabel('Validation loss')\n",
    "plt.legend()\n",
    "\n",
    "plt.show()"
   ]
  },
  {
   "cell_type": "markdown",
   "metadata": {},
   "source": [
    "\n",
    "\n",
    "As you can see, the model with L2 regularization (dots) has become much more resistant to overfitting than the reference model (crosses), \n",
    "even though both models have the same number of parameters.\n",
    "\n",
    "As alternatives to L2 regularization, you could use one of the following Keras weight regularizers:"
   ]
  },
  {
   "cell_type": "code",
   "execution_count": 29,
   "metadata": {},
   "outputs": [
    {
     "data": {
      "text/plain": [
       "<keras.regularizers.L1L2 at 0xb32819748>"
      ]
     },
     "execution_count": 29,
     "metadata": {},
     "output_type": "execute_result"
    }
   ],
   "source": [
    "from keras import regularizers\n",
    "\n",
    "# L1 regularization\n",
    "regularizers.l1(0.001)\n",
    "\n",
    "# L1 and L2 regularization at the same time\n",
    "regularizers.l1_l2(l1=0.001, l2=0.001)"
   ]
  },
  {
   "cell_type": "markdown",
   "metadata": {},
   "source": [
    "## Adding dropout\n",
    "\n",
    "\n",
    "Dropout is one of the most effective and most commonly used regularization techniques for neural networks, developed by Hinton and his \n",
    "students at the University of Toronto. Dropout, applied to a layer, consists of randomly \"dropping out\" (i.e. setting to zero) a number of \n",
    "output features of the layer during training. Let's say a given layer would normally have returned a vector `[0.2, 0.5, 1.3, 0.8, 1.1]` for a \n",
    "given input sample during training; after applying dropout, this vector will have a few zero entries distributed at random, e.g. `[0, 0.5, \n",
    "1.3, 0, 1.1]`. The \"dropout rate\" is the fraction of the features that are being zeroed-out; it is usually set between 0.2 and 0.5. At test \n",
    "time, no units are dropped out, and instead the layer's output values are scaled down by a factor equal to the dropout rate, so as to \n",
    "balance for the fact that more units are active than at training time.\n",
    "\n",
    "Consider a Numpy matrix containing the output of a layer, `layer_output`, of shape `(batch_size, features)`. At training time, we would be \n",
    "zero-ing out at random a fraction of the values in the matrix:"
   ]
  },
  {
   "cell_type": "code",
   "execution_count": 30,
   "metadata": {},
   "outputs": [
    {
     "ename": "NameError",
     "evalue": "name 'layer_output' is not defined",
     "output_type": "error",
     "traceback": [
      "\u001b[0;31m---------------------------------------------------------------------------\u001b[0m",
      "\u001b[0;31mNameError\u001b[0m                                 Traceback (most recent call last)",
      "\u001b[0;32m<ipython-input-30-f1f187ff4a2c>\u001b[0m in \u001b[0;36m<module>\u001b[0;34m()\u001b[0m\n\u001b[1;32m      1\u001b[0m \u001b[0;31m# At training time: we drop out 50% of the units in the output\u001b[0m\u001b[0;34m\u001b[0m\u001b[0;34m\u001b[0m\u001b[0m\n\u001b[0;32m----> 2\u001b[0;31m \u001b[0mlayer_output\u001b[0m \u001b[0;34m*=\u001b[0m \u001b[0mnp\u001b[0m\u001b[0;34m.\u001b[0m\u001b[0mrandint\u001b[0m\u001b[0;34m(\u001b[0m\u001b[0;36m0\u001b[0m\u001b[0;34m,\u001b[0m \u001b[0mhigh\u001b[0m\u001b[0;34m=\u001b[0m\u001b[0;36m2\u001b[0m\u001b[0;34m,\u001b[0m \u001b[0msize\u001b[0m\u001b[0;34m=\u001b[0m\u001b[0mlayer_output\u001b[0m\u001b[0;34m.\u001b[0m\u001b[0mshape\u001b[0m\u001b[0;34m)\u001b[0m\u001b[0;34m\u001b[0m\u001b[0m\n\u001b[0m",
      "\u001b[0;31mNameError\u001b[0m: name 'layer_output' is not defined"
     ]
    }
   ],
   "source": [
    "# At training time: we drop out 50% of the units in the output\n",
    "layer_output *= np.randint(0, high=2, size=layer_output.shape)"
   ]
  },
  {
   "cell_type": "markdown",
   "metadata": {},
   "source": [
    "\n",
    "At test time, we would be scaling the output down by the dropout rate. Here we scale by 0.5 (because we were previous dropping half the \n",
    "units):"
   ]
  },
  {
   "cell_type": "code",
   "execution_count": 26,
   "metadata": {},
   "outputs": [
    {
     "ename": "NameError",
     "evalue": "name 'layer_output' is not defined",
     "output_type": "error",
     "traceback": [
      "\u001b[0;31m---------------------------------------------------------------------------\u001b[0m",
      "\u001b[0;31mNameError\u001b[0m                                 Traceback (most recent call last)",
      "\u001b[0;32m<ipython-input-26-bfeb0a27d9eb>\u001b[0m in \u001b[0;36m<module>\u001b[0;34m()\u001b[0m\n\u001b[1;32m      1\u001b[0m \u001b[0;31m# At test time:\u001b[0m\u001b[0;34m\u001b[0m\u001b[0;34m\u001b[0m\u001b[0m\n\u001b[0;32m----> 2\u001b[0;31m \u001b[0mlayer_output\u001b[0m \u001b[0;34m*=\u001b[0m \u001b[0;36m0.5\u001b[0m\u001b[0;34m\u001b[0m\u001b[0m\n\u001b[0m",
      "\u001b[0;31mNameError\u001b[0m: name 'layer_output' is not defined"
     ]
    }
   ],
   "source": [
    "# At test time:\n",
    "layer_output *= 0.5"
   ]
  },
  {
   "cell_type": "markdown",
   "metadata": {},
   "source": [
    "\n",
    "Note that this process can be implemented by doing both operations at training time and leaving the output unchanged at test time, which is \n",
    "often the way it is implemented in practice:"
   ]
  },
  {
   "cell_type": "code",
   "execution_count": 27,
   "metadata": {},
   "outputs": [
    {
     "ename": "NameError",
     "evalue": "name 'layer_output' is not defined",
     "output_type": "error",
     "traceback": [
      "\u001b[0;31m---------------------------------------------------------------------------\u001b[0m",
      "\u001b[0;31mNameError\u001b[0m                                 Traceback (most recent call last)",
      "\u001b[0;32m<ipython-input-27-e035a3ac027e>\u001b[0m in \u001b[0;36m<module>\u001b[0;34m()\u001b[0m\n\u001b[1;32m      1\u001b[0m \u001b[0;31m# At training time:\u001b[0m\u001b[0;34m\u001b[0m\u001b[0;34m\u001b[0m\u001b[0m\n\u001b[0;32m----> 2\u001b[0;31m \u001b[0mlayer_output\u001b[0m \u001b[0;34m*=\u001b[0m \u001b[0mnp\u001b[0m\u001b[0;34m.\u001b[0m\u001b[0mrandint\u001b[0m\u001b[0;34m(\u001b[0m\u001b[0;36m0\u001b[0m\u001b[0;34m,\u001b[0m \u001b[0mhigh\u001b[0m\u001b[0;34m=\u001b[0m\u001b[0;36m2\u001b[0m\u001b[0;34m,\u001b[0m \u001b[0msize\u001b[0m\u001b[0;34m=\u001b[0m\u001b[0mlayer_output\u001b[0m\u001b[0;34m.\u001b[0m\u001b[0mshape\u001b[0m\u001b[0;34m)\u001b[0m\u001b[0;34m\u001b[0m\u001b[0m\n\u001b[0m\u001b[1;32m      3\u001b[0m \u001b[0;31m# Note that we are scaling *up* rather scaling *down* in this case\u001b[0m\u001b[0;34m\u001b[0m\u001b[0;34m\u001b[0m\u001b[0m\n\u001b[1;32m      4\u001b[0m \u001b[0mlayer_output\u001b[0m \u001b[0;34m/=\u001b[0m \u001b[0;36m0.5\u001b[0m\u001b[0;34m\u001b[0m\u001b[0m\n",
      "\u001b[0;31mNameError\u001b[0m: name 'layer_output' is not defined"
     ]
    }
   ],
   "source": [
    "# At training time:\n",
    "layer_output *= np.randint(0, high=2, size=layer_output.shape)\n",
    "# Note that we are scaling *up* rather scaling *down* in this case\n",
    "layer_output /= 0.5"
   ]
  },
  {
   "cell_type": "markdown",
   "metadata": {},
   "source": [
    "\n",
    "This technique may seem strange and arbitrary. Why would this help reduce overfitting? Geoff Hinton has said that he was inspired, among \n",
    "other things, by a fraud prevention mechanism used by banks -- in his own words: _\"I went to my bank. The tellers kept changing and I asked \n",
    "one of them why. He said he didn’t know but they got moved around a lot. I figured it must be because it would require cooperation \n",
    "between employees to successfully defraud the bank. This made me realize that randomly removing a different subset of neurons on each \n",
    "example would prevent conspiracies and thus reduce overfitting\"_.\n",
    "\n",
    "The core idea is that introducing noise in the output values of a layer can break up happenstance patterns that are not significant (what \n",
    "Hinton refers to as \"conspiracies\"), which the network would start memorizing if no noise was present. \n",
    "\n",
    "In Keras you can introduce dropout in a network via the `Dropout` layer, which gets applied to the output of layer right before it, e.g.:"
   ]
  },
  {
   "cell_type": "code",
   "execution_count": 28,
   "metadata": {},
   "outputs": [
    {
     "ename": "NameError",
     "evalue": "name 'model' is not defined",
     "output_type": "error",
     "traceback": [
      "\u001b[0;31m---------------------------------------------------------------------------\u001b[0m",
      "\u001b[0;31mNameError\u001b[0m                                 Traceback (most recent call last)",
      "\u001b[0;32m<ipython-input-28-65ed89de200e>\u001b[0m in \u001b[0;36m<module>\u001b[0;34m()\u001b[0m\n\u001b[0;32m----> 1\u001b[0;31m \u001b[0mmodel\u001b[0m\u001b[0;34m.\u001b[0m\u001b[0madd\u001b[0m\u001b[0;34m(\u001b[0m\u001b[0mlayers\u001b[0m\u001b[0;34m.\u001b[0m\u001b[0mDropout\u001b[0m\u001b[0;34m(\u001b[0m\u001b[0;36m0.5\u001b[0m\u001b[0;34m)\u001b[0m\u001b[0;34m)\u001b[0m\u001b[0;34m\u001b[0m\u001b[0m\n\u001b[0m",
      "\u001b[0;31mNameError\u001b[0m: name 'model' is not defined"
     ]
    }
   ],
   "source": [
    "model.add(layers.Dropout(0.5))"
   ]
  },
  {
   "cell_type": "markdown",
   "metadata": {},
   "source": [
    "Let's add two `Dropout` layers in our IMDB network to see how well they do at reducing overfitting:"
   ]
  },
  {
   "cell_type": "code",
   "execution_count": 31,
   "metadata": {},
   "outputs": [],
   "source": [
    "dpt_model = models.Sequential()\n",
    "dpt_model.add(layers.Dense(16, activation='relu', input_shape=(10000,)))\n",
    "dpt_model.add(layers.Dropout(0.5))\n",
    "dpt_model.add(layers.Dense(16, activation='relu'))\n",
    "dpt_model.add(layers.Dropout(0.5))\n",
    "dpt_model.add(layers.Dense(1, activation='sigmoid'))\n",
    "\n",
    "dpt_model.compile(optimizer='rmsprop',\n",
    "                  loss='binary_crossentropy',\n",
    "                  metrics=['acc'])"
   ]
  },
  {
   "cell_type": "code",
   "execution_count": 32,
   "metadata": {},
   "outputs": [
    {
     "name": "stdout",
     "output_type": "stream",
     "text": [
      "Train on 25000 samples, validate on 25000 samples\n",
      "Epoch 1/20\n",
      "25000/25000 [==============================] - 12s 479us/step - loss: 0.5906 - acc: 0.6839 - val_loss: 0.4324 - val_acc: 0.8620\n",
      "Epoch 2/20\n",
      "25000/25000 [==============================] - 9s 374us/step - loss: 0.4358 - acc: 0.8183 - val_loss: 0.3471 - val_acc: 0.8706\n",
      "Epoch 3/20\n",
      "25000/25000 [==============================] - 8s 339us/step - loss: 0.3468 - acc: 0.8718 - val_loss: 0.2906 - val_acc: 0.8879\n",
      "Epoch 4/20\n",
      "25000/25000 [==============================] - 9s 352us/step - loss: 0.2880 - acc: 0.8978 - val_loss: 0.2766 - val_acc: 0.8881\n",
      "Epoch 5/20\n",
      "25000/25000 [==============================] - 8s 334us/step - loss: 0.2530 - acc: 0.9139 - val_loss: 0.2805 - val_acc: 0.8890\n",
      "Epoch 6/20\n",
      "25000/25000 [==============================] - 8s 336us/step - loss: 0.2216 - acc: 0.9269 - val_loss: 0.2902 - val_acc: 0.8878\n",
      "Epoch 7/20\n",
      "25000/25000 [==============================] - 8s 332us/step - loss: 0.1960 - acc: 0.9366 - val_loss: 0.3222 - val_acc: 0.8856\n",
      "Epoch 8/20\n",
      "25000/25000 [==============================] - 8s 340us/step - loss: 0.1768 - acc: 0.9434 - val_loss: 0.3341 - val_acc: 0.8848\n",
      "Epoch 9/20\n",
      "25000/25000 [==============================] - 8s 337us/step - loss: 0.1708 - acc: 0.9472 - val_loss: 0.3529 - val_acc: 0.8843\n",
      "Epoch 10/20\n",
      "25000/25000 [==============================] - 9s 362us/step - loss: 0.1517 - acc: 0.9506 - val_loss: 0.3769 - val_acc: 0.8831\n",
      "Epoch 11/20\n",
      "25000/25000 [==============================] - 8s 337us/step - loss: 0.1462 - acc: 0.9524 - val_loss: 0.3928 - val_acc: 0.8807\n",
      "Epoch 12/20\n",
      "25000/25000 [==============================] - 8s 336us/step - loss: 0.1355 - acc: 0.9588 - val_loss: 0.4359 - val_acc: 0.8758\n",
      "Epoch 13/20\n",
      "25000/25000 [==============================] - 10s 383us/step - loss: 0.1240 - acc: 0.9602 - val_loss: 0.4610 - val_acc: 0.8742\n",
      "Epoch 14/20\n",
      "25000/25000 [==============================] - 10s 402us/step - loss: 0.1197 - acc: 0.9609 - val_loss: 0.4571 - val_acc: 0.8769\n",
      "Epoch 15/20\n",
      "25000/25000 [==============================] - 8s 336us/step - loss: 0.1144 - acc: 0.9632 - val_loss: 0.4869 - val_acc: 0.8730\n",
      "Epoch 16/20\n",
      "25000/25000 [==============================] - 9s 347us/step - loss: 0.1133 - acc: 0.9647 - val_loss: 0.5128 - val_acc: 0.8745\n",
      "Epoch 17/20\n",
      "25000/25000 [==============================] - 9s 374us/step - loss: 0.1091 - acc: 0.9644 - val_loss: 0.5522 - val_acc: 0.8713\n",
      "Epoch 18/20\n",
      "25000/25000 [==============================] - 11s 433us/step - loss: 0.1080 - acc: 0.9659 - val_loss: 0.5330 - val_acc: 0.8735\n",
      "Epoch 19/20\n",
      "25000/25000 [==============================] - 9s 363us/step - loss: 0.0987 - acc: 0.9676 - val_loss: 0.5668 - val_acc: 0.8738\n",
      "Epoch 20/20\n",
      "25000/25000 [==============================] - 9s 343us/step - loss: 0.1028 - acc: 0.9684 - val_loss: 0.5849 - val_acc: 0.8708\n"
     ]
    }
   ],
   "source": [
    "dpt_model_hist = dpt_model.fit(x_train, y_train,\n",
    "                               epochs=20,\n",
    "                               batch_size=512,\n",
    "                               validation_data=(x_test, y_test))"
   ]
  },
  {
   "cell_type": "markdown",
   "metadata": {},
   "source": [
    "Let's plot the results:"
   ]
  },
  {
   "cell_type": "code",
   "execution_count": 33,
   "metadata": {},
   "outputs": [
    {
     "data": {
      "image/png": "[encoded data removed]",
      "text/plain": [
       "<Figure size 432x288 with 1 Axes>"
      ]
     },
     "metadata": {
      "needs_background": "light"
     },
     "output_type": "display_data"
    }
   ],
   "source": [
    "dpt_model_val_loss = dpt_model_hist.history['val_loss']\n",
    "\n",
    "plt.plot(epochs, original_val_loss, 'b+', label='Original model')\n",
    "plt.plot(epochs, dpt_model_val_loss, 'bo', label='Dropout-regularized model')\n",
    "plt.xlabel('Epochs')\n",
    "plt.ylabel('Validation loss')\n",
    "plt.legend()\n",
    "\n",
    "plt.show()"
   ]
  },
  {
   "cell_type": "markdown",
   "metadata": {},
   "source": [
    "\n",
    "Again, a clear improvement over the reference network.\n",
    "\n",
    "To recap: here the most common ways to prevent overfitting in neural networks:\n",
    "\n",
    "* Getting more training data.\n",
    "* Reducing the capacity of the network.\n",
    "* Adding weight regularization.\n",
    "* Adding dropout."
   ]
  },
  {
   "cell_type": "code",
   "execution_count": null,
   "metadata": {},
   "outputs": [],
   "source": []
  }
 ],
 "metadata": {
  "kernelspec": {
   "display_name": "Python 3",
   "language": "python",
   "name": "python3"
  },
  "language_info": {
   "codemirror_mode": {
    "name": "ipython",
    "version": 3
   },
   "file_extension": ".py",
   "mimetype": "text/x-python",
   "name": "python",
   "nbconvert_exporter": "python",
   "pygments_lexer": "ipython3",
   "version": "3.5.6"
  }
 },
 "nbformat": 4,
 "nbformat_minor": 2
}
