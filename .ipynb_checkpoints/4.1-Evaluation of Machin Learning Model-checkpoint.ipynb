{
 "cells": [
  {
   "cell_type": "code",
   "execution_count": null,
   "metadata": {},
   "outputs": [],
   "source": [
    "import keras\n",
    "from keras import models\n",
    "from keras import layers\n",
    "import numpy as np\n"
   ]
  },
  {
   "cell_type": "code",
   "execution_count": 4,
   "metadata": {},
   "outputs": [
    {
     "ename": "NameError",
     "evalue": "name 'data' is not defined",
     "output_type": "error",
     "traceback": [
      "\u001b[0;31m---------------------------------------------------------------------------\u001b[0m",
      "\u001b[0;31mNameError\u001b[0m                                 Traceback (most recent call last)",
      "\u001b[0;32m<ipython-input-4-1408d6395a64>\u001b[0m in \u001b[0;36m<module>\u001b[0;34m()\u001b[0m\n\u001b[1;32m      3\u001b[0m \u001b[0;34m\u001b[0m\u001b[0m\n\u001b[1;32m      4\u001b[0m \u001b[0;31m# 通常はデータをシャッフルするのが適している\u001b[0m\u001b[0;34m\u001b[0m\u001b[0;34m\u001b[0m\u001b[0m\n\u001b[0;32m----> 5\u001b[0;31m \u001b[0mnp\u001b[0m\u001b[0;34m.\u001b[0m\u001b[0mrandom\u001b[0m\u001b[0;34m.\u001b[0m\u001b[0mshuffle\u001b[0m\u001b[0;34m(\u001b[0m\u001b[0mdata\u001b[0m\u001b[0;34m)\u001b[0m\u001b[0;34m\u001b[0m\u001b[0m\n\u001b[0m\u001b[1;32m      6\u001b[0m \u001b[0;34m\u001b[0m\u001b[0m\n\u001b[1;32m      7\u001b[0m \u001b[0;31m# 検証データセットを定義\u001b[0m\u001b[0;34m\u001b[0m\u001b[0;34m\u001b[0m\u001b[0m\n",
      "\u001b[0;31mNameError\u001b[0m: name 'data' is not defined"
     ]
    }
   ],
   "source": [
    "# リスト4-1. ホールドアウト法\n",
    "num_validation_samples = 10000\n",
    "\n",
    "# 通常はデータをシャッフルするのが適している\n",
    "np.random.shuffle(data)\n",
    "\n",
    "# 検証データセットを定義\n",
    "validation_data = data[:num_validation_samples]\n",
    "data = data[num_validation_datasamples:]\n",
    "\n",
    "# 訓練データセットを定義\n",
    "training_data = data[:]\n",
    "\n",
    "# モデルを訓練データで訓練し、検証データで評価\n",
    "model = get_model()\n",
    "model.train(training_data)\n",
    "validation_score = model.evaluate(validation_data)\n",
    "# この時点で、モデルのチューニング、再訓練、評価、再訓練...の繰り返しが可能となる\n",
    "\n",
    "# ハイパーパラメータのチューニングが済んだら、\n",
    "# テストにまったく使用していないデータで最終的なモデルの訓練を行うのが一般的　\n",
    "model = get_model()\n",
    "model.train(np.concatenate([training_data, validation_data]))\n",
    "test_score = model.evaluate(test_data)\n"
   ]
  },
  {
   "cell_type": "code",
   "execution_count": null,
   "metadata": {},
   "outputs": [],
   "source": [
    "# リスト4-2. k分割交差検証\n",
    "k = 4\n",
    "num_validation_samples = len(data)\n",
    "np.random.shuffle(data)\n",
    "validation_scores = []\n",
    "\n",
    "for fold in range(k):\n",
    "    # 検証データを選択\n",
    "    validation_data = data[num_validation_samples * fold:\n",
    "                           num_validation * (fold + 1)]\n",
    "    \n",
    "    # 残りのデータは訓練データとして使用\n",
    "    # +演算子は合計を求めるのではなくリストの連結を行うことに注意\n",
    "    training_data = data[:num_validation_samples * fold] + data[num_validation_samples * (fold + 1):]\n",
    "    \n",
    "    # モデルのまったく新しいインスタンスを作成\n",
    "    model = get_model()\n",
    "    # モデルを訓練\n",
    "    model.train(training_data)\n",
    "    \n",
    "    # 検証スコアはk個のフォールドの検証スコアの平均\n",
    "    validation_score = model.evaluate(validation_data)\n",
    "    validation_scores.append(validation_score)\n",
    "    \n",
    "validation_score = np.average(validation_scores)\n",
    "# テストにまったく使用していないデータで最終的なモデルを訓練\n",
    "model = get_model()\n",
    "model.train(data)\n",
    "test_score = model.evaluate(test_data)\n",
    "\n",
    "    "
   ]
  }
 ],
 "metadata": {
  "kernelspec": {
   "display_name": "Python 3",
   "language": "python",
   "name": "python3"
  },
  "language_info": {
   "codemirror_mode": {
    "name": "ipython",
    "version": 3
   },
   "file_extension": ".py",
   "mimetype": "text/x-python",
   "name": "python",
   "nbconvert_exporter": "python",
   "pygments_lexer": "ipython3",
   "version": "3.5.6"
  }
 },
 "nbformat": 4,
 "nbformat_minor": 2
}
