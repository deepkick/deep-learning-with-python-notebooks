{
 "cells": [
  {
   "cell_type": "code",
   "execution_count": 1,
   "metadata": {},
   "outputs": [
    {
     "data": {
      "text/plain": [
       "'2.4.3'"
      ]
     },
     "execution_count": 1,
     "metadata": {},
     "output_type": "execute_result"
    }
   ],
   "source": [
    "import keras\n",
    "keras.__version__"
   ]
  },
  {
   "cell_type": "markdown",
   "metadata": {},
   "source": [
    "# Classifying newswires: a multi-class classification example\n",
    "\n",
    "This notebook contains the code samples found in Chapter 3, Section 5 of [Deep Learning with Python](https://www.manning.com/books/deep-learning-with-python?a_aid=keras&a_bid=76564dff). Note that the original text features far more content, in particular further explanations and figures: in this notebook, you will only find source code and related comments.\n",
    "\n",
    "----\n",
    "\n",
    "In the previous section we saw how to classify vector inputs into two mutually exclusive classes using a densely-connected neural network. \n",
    "But what happens when you have more than two classes? \n",
    "\n",
    "In this section, we will build a network to classify Reuters newswires into 46 different mutually-exclusive topics. Since we have many \n",
    "classes, this problem is an instance of \"multi-class classification\", and since each data point should be classified into only one \n",
    "category, the problem is more specifically an instance of \"single-label, multi-class classification\". If each data point could have \n",
    "belonged to multiple categories (in our case, topics) then we would be facing a \"multi-label, multi-class classification\" problem."
   ]
  },
  {
   "cell_type": "markdown",
   "metadata": {},
   "source": [
    "## The Reuters dataset\n",
    "\n",
    "\n",
    "We will be working with the _Reuters dataset_, a set of short newswires and their topics, published by Reuters in 1986. It's a very simple, \n",
    "widely used toy dataset for text classification. There are 46 different topics; some topics are more represented than others, but each \n",
    "topic has at least 10 examples in the training set.\n",
    "\n",
    "Like IMDB and MNIST, the Reuters dataset comes packaged as part of Keras. Let's take a look right away:"
   ]
  },
  {
   "cell_type": "code",
   "execution_count": 2,
   "metadata": {},
   "outputs": [],
   "source": [
    "from keras.datasets import reuters\n",
    "\n",
    "(train_data, train_labels), (test_data, test_labels) = reuters.load_data(num_words=10000)\n",
    "\n",
    "# データを出現頻度が最も高い10000個の単語に制限する。"
   ]
  },
  {
   "cell_type": "markdown",
   "metadata": {},
   "source": [
    "\n",
    "Like with the IMDB dataset, the argument `num_words=10000` restricts the data to the 10,000 most frequently occurring words found in the \n",
    "data.\n",
    "\n",
    "We have 8,982 training examples and 2,246 test examples:\n",
    "\n",
    "訓練サンプルは8982個、テストサンプルは2246個になる。"
   ]
  },
  {
   "cell_type": "code",
   "execution_count": 3,
   "metadata": {},
   "outputs": [
    {
     "data": {
      "text/plain": [
       "8982"
      ]
     },
     "execution_count": 3,
     "metadata": {},
     "output_type": "execute_result"
    }
   ],
   "source": [
    "len(train_data)"
   ]
  },
  {
   "cell_type": "code",
   "execution_count": 4,
   "metadata": {},
   "outputs": [
    {
     "data": {
      "text/plain": [
       "2246"
      ]
     },
     "execution_count": 4,
     "metadata": {},
     "output_type": "execute_result"
    }
   ],
   "source": [
    "len(test_data)"
   ]
  },
  {
   "cell_type": "markdown",
   "metadata": {},
   "source": [
    "IMDbデータセットのレビューと同様に、各サンプルは整数（単語のインデックス）のリスト。\n",
    "As with the IMDB reviews, each example is a list of integers (word indices):"
   ]
  },
  {
   "cell_type": "code",
   "execution_count": 5,
   "metadata": {},
   "outputs": [
    {
     "data": {
      "text/plain": [
       "[1,\n",
       " 245,\n",
       " 273,\n",
       " 207,\n",
       " 156,\n",
       " 53,\n",
       " 74,\n",
       " 160,\n",
       " 26,\n",
       " 14,\n",
       " 46,\n",
       " 296,\n",
       " 26,\n",
       " 39,\n",
       " 74,\n",
       " 2979,\n",
       " 3554,\n",
       " 14,\n",
       " 46,\n",
       " 4689,\n",
       " 4329,\n",
       " 86,\n",
       " 61,\n",
       " 3499,\n",
       " 4795,\n",
       " 14,\n",
       " 61,\n",
       " 451,\n",
       " 4329,\n",
       " 17,\n",
       " 12]"
      ]
     },
     "execution_count": 5,
     "metadata": {},
     "output_type": "execute_result"
    }
   ],
   "source": [
    "train_data[10]"
   ]
  },
  {
   "cell_type": "markdown",
   "metadata": {},
   "source": [
    "参考までに、この整数のリストを単語に戻してみる。\n",
    "\n",
    "Here's how you can decode it back to words, in case you are curious:"
   ]
  },
  {
   "cell_type": "code",
   "execution_count": 6,
   "metadata": {},
   "outputs": [],
   "source": [
    "word_index = reuters.get_word_index()\n",
    "reverse_word_index = dict([(value, key) for (key, value) in word_index.items()])\n",
    "# Note that our indices were offset by 3\n",
    "# because 0, 1 and 2 are reserved indices for \"padding\", \"start of sequence\", and \"unknown\".\n",
    "decoded_newswire = ' '.join([reverse_word_index.get(i - 3, '?') for i in train_data[0]])"
   ]
  },
  {
   "cell_type": "code",
   "execution_count": 7,
   "metadata": {},
   "outputs": [
    {
     "data": {
      "text/plain": [
       "'? ? ? said as a result of its december acquisition of space co it expects earnings per share in 1987 of 1 15 to 1 30 dlrs per share up from 70 cts in 1986 the company said pretax net should rise to nine to 10 mln dlrs from six mln dlrs in 1986 and rental operation revenues to 19 to 22 mln dlrs from 12 5 mln dlrs it said cash flow per share this year should be 2 50 to three dlrs reuter 3'"
      ]
     },
     "execution_count": 7,
     "metadata": {},
     "output_type": "execute_result"
    }
   ],
   "source": [
    "decoded_newswire"
   ]
  },
  {
   "cell_type": "markdown",
   "metadata": {},
   "source": [
    "The label associated with an example is an integer between 0 and 45: a topic index."
   ]
  },
  {
   "cell_type": "code",
   "execution_count": 8,
   "metadata": {},
   "outputs": [
    {
     "data": {
      "text/plain": [
       "3"
      ]
     },
     "execution_count": 8,
     "metadata": {},
     "output_type": "execute_result"
    }
   ],
   "source": [
    "train_labels[10]"
   ]
  },
  {
   "cell_type": "markdown",
   "metadata": {},
   "source": [
    "## Preparing the data\n",
    "\n",
    "We can vectorize the data with the exact same code as in our previous example:\n",
    "\n",
    "データのベクトル化"
   ]
  },
  {
   "cell_type": "code",
   "execution_count": 9,
   "metadata": {},
   "outputs": [
    {
     "name": "stdout",
     "output_type": "stream",
     "text": [
      "x_train.shape :  (8982, 10000)\n",
      "x_test.shape :  (2246, 10000)\n"
     ]
    }
   ],
   "source": [
    "import numpy as np\n",
    "\n",
    "def vectorize_sequences(sequences, dimension=10000):\n",
    "    results = np.zeros((len(sequences), dimension))\n",
    "    for i, sequence in enumerate(sequences):\n",
    "        results[i, sequence] = 1.\n",
    "    return results\n",
    "\n",
    "# Our vectorized training data\n",
    "x_train = vectorize_sequences(train_data)\n",
    "# Our vectorized test data\n",
    "x_test = vectorize_sequences(test_data)\n",
    "print ('x_train.shape : ', x_train.shape)\n",
    "print ('x_test.shape : ', x_test.shape)"
   ]
  },
  {
   "cell_type": "markdown",
   "metadata": {},
   "source": [
    "\n",
    "To vectorize the labels, there are two possibilities: we could just cast the label list as an integer tensor, or we could use a \"one-hot\" \n",
    "encoding. One-hot encoding is a widely used format for categorical data, also called \"categorical encoding\". \n",
    "For a more detailed explanation of one-hot encoding, you can refer to Chapter 6, Section 1. \n",
    "In our case, one-hot encoding of our labels consists in embedding each label as an all-zero vector with a 1 in the place of the label index, e.g.:"
   ]
  },
  {
   "cell_type": "code",
   "execution_count": 10,
   "metadata": {},
   "outputs": [
    {
     "name": "stdout",
     "output_type": "stream",
     "text": [
      "one_hot_train_labels.shape :  (8982, 46)\n",
      "one_hot_test_labels.shape :  (2246, 46)\n"
     ]
    }
   ],
   "source": [
    "def to_one_hot(labels, dimension=46):\n",
    "    results = np.zeros((len(labels), dimension))\n",
    "    for i, label in enumerate(labels):\n",
    "        results[i, label] = 1.\n",
    "    return results\n",
    "\n",
    "# Our vectorized training labels\n",
    "one_hot_train_labels = to_one_hot(train_labels)\n",
    "# Our vectorized test labels\n",
    "one_hot_test_labels = to_one_hot(test_labels)\n",
    "\n",
    "print ('one_hot_train_labels.shape : ', one_hot_train_labels.shape)\n",
    "print ('one_hot_test_labels.shape : ', one_hot_test_labels.shape)"
   ]
  },
  {
   "cell_type": "markdown",
   "metadata": {},
   "source": [
    "Note that there is a built-in way to do this in Keras, which you have already seen in action in our MNIST example:"
   ]
  },
  {
   "cell_type": "code",
   "execution_count": 11,
   "metadata": {
    "scrolled": true
   },
   "outputs": [
    {
     "name": "stdout",
     "output_type": "stream",
     "text": [
      "one_hot_train_labels.shape :  (8982, 46)\n",
      "one_hot_test_labels.shape :  (2246, 46)\n"
     ]
    }
   ],
   "source": [
    "from keras.utils.np_utils import to_categorical\n",
    "\n",
    "one_hot_train_labels = to_categorical(train_labels)\n",
    "one_hot_test_labels = to_categorical(test_labels)\n",
    "\n",
    "print ('one_hot_train_labels.shape : ', one_hot_train_labels.shape) #  (8982, 46)\n",
    "print ('one_hot_test_labels.shape : ', one_hot_test_labels.shape) # (2246, 46)\n",
    "#print ('one_hot_train_labels.shape[0] : ', one_hot_train_labels[0].shape) # (46,)\n",
    "#one_hot_train_labels\n",
    "#one_hot_test_labels"
   ]
  },
  {
   "cell_type": "markdown",
   "metadata": {},
   "source": [
    "## Building our network\n",
    "\n",
    "\n",
    "This topic classification problem looks very similar to our previous movie review classification problem: in both cases, we are trying to \n",
    "classify short snippets of text. There is however a new constraint here: the number of output classes has gone from 2 to 46, i.e. the \n",
    "dimensionality of the output space is much larger. \n",
    "\n",
    "In a stack of `Dense` layers like what we were using, each layer can only access information present in the output of the previous layer. \n",
    "If one layer drops some information relevant to the classification problem, this information can never be recovered by later layers: each \n",
    "layer can potentially become an \"information bottleneck\". In our previous example, we were using 16-dimensional intermediate layers, but a \n",
    "16-dimensional space may be too limited to learn to separate 46 different classes: such small layers may act as information bottlenecks, \n",
    "permanently dropping relevant information.\n",
    "\n",
    "For this reason we will use larger layers. Let's go with 64 units:\n",
    "\n",
    "ニューラルネットワークの構築"
   ]
  },
  {
   "cell_type": "code",
   "execution_count": 12,
   "metadata": {},
   "outputs": [],
   "source": [
    "from keras import models\n",
    "from keras import layers\n",
    "\n",
    "model = models.Sequential()\n",
    "model.add(layers.Dense(64, activation='relu', input_shape=(10000,)))\n",
    "model.add(layers.Dense(64, activation='relu'))\n",
    "model.add(layers.Dense(46, activation='softmax'))"
   ]
  },
  {
   "cell_type": "markdown",
   "metadata": {},
   "source": [
    "\n",
    "There are two other things you should note about this architecture:\n",
    "\n",
    "* We are ending the network with a `Dense` layer of size 46. This means that for each input sample, our network will output a \n",
    "46-dimensional vector. Each entry in this vector (each dimension) will encode a different output class.\n",
    "* The last layer uses a `softmax` activation. You have already seen this pattern in the MNIST example. It means that the network will \n",
    "output a _probability distribution_ over the 46 different output classes, i.e. for every input sample, the network will produce a \n",
    "46-dimensional output vector where `output[i]` is the probability that the sample belongs to class `i`. The 46 scores will sum to 1.\n",
    "\n",
    "The best loss function to use in this case is `categorical_crossentropy`. It measures the distance between two probability distributions: \n",
    "in our case, between the probability distribution output by our network, and the true distribution of the labels. By minimizing the \n",
    "distance between these two distributions, we train our network to output something as close as possible to the true labels."
   ]
  },
  {
   "cell_type": "code",
   "execution_count": 13,
   "metadata": {},
   "outputs": [],
   "source": [
    "model.compile(optimizer='rmsprop',\n",
    "              loss='categorical_crossentropy',\n",
    "              metrics=['acc'])"
   ]
  },
  {
   "cell_type": "markdown",
   "metadata": {},
   "source": [
    "## Validating our approach\n",
    "\n",
    "Let's set apart 1,000 samples in our training data to use as a validation set:"
   ]
  },
  {
   "cell_type": "code",
   "execution_count": 14,
   "metadata": {},
   "outputs": [
    {
     "name": "stdout",
     "output_type": "stream",
     "text": [
      "x_val.shape :  (1000, 10000)\n",
      "partial_x_train.shape :  (7982, 10000)\n",
      "y_val.shape :  (1000, 46)\n",
      "partial_y_train.shape :  (7982, 46)\n"
     ]
    }
   ],
   "source": [
    "x_val = x_train[:1000]\n",
    "partial_x_train = x_train[1000:]\n",
    "print ('x_val.shape : ', x_val.shape) # (1000, 10000)\n",
    "print ('partial_x_train.shape : ', partial_x_train.shape) # (7982, 10000)\n",
    "\n",
    "y_val = one_hot_train_labels[:1000]\n",
    "partial_y_train = one_hot_train_labels[1000:]\n",
    "print ('y_val.shape : ', y_val.shape) #  (1000, 46)\n",
    "print ('partial_y_train.shape : ', partial_y_train.shape) # (7982, 46)\n"
   ]
  },
  {
   "cell_type": "markdown",
   "metadata": {},
   "source": [
    "Now let's train our network for 20 epochs:"
   ]
  },
  {
   "cell_type": "code",
   "execution_count": 15,
   "metadata": {},
   "outputs": [
    {
     "name": "stdout",
     "output_type": "stream",
     "text": [
      "Epoch 1/20\n",
      "16/16 [==============================] - 1s 37ms/step - loss: 2.6950 - acc: 0.5343 - val_loss: 1.8242 - val_acc: 0.6180\n",
      "Epoch 2/20\n",
      "16/16 [==============================] - 0s 20ms/step - loss: 1.4749 - acc: 0.6888 - val_loss: 1.3651 - val_acc: 0.7010\n",
      "Epoch 3/20\n",
      "16/16 [==============================] - 0s 19ms/step - loss: 1.0951 - acc: 0.7585 - val_loss: 1.1649 - val_acc: 0.7520\n",
      "Epoch 4/20\n",
      "16/16 [==============================] - 0s 21ms/step - loss: 0.8687 - acc: 0.8117 - val_loss: 1.0786 - val_acc: 0.7730\n",
      "Epoch 5/20\n",
      "16/16 [==============================] - 0s 20ms/step - loss: 0.6894 - acc: 0.8539 - val_loss: 0.9879 - val_acc: 0.7940\n",
      "Epoch 6/20\n",
      "16/16 [==============================] - 0s 20ms/step - loss: 0.5547 - acc: 0.8845 - val_loss: 0.9656 - val_acc: 0.7910\n",
      "Epoch 7/20\n",
      "16/16 [==============================] - 0s 20ms/step - loss: 0.4417 - acc: 0.9067 - val_loss: 0.9179 - val_acc: 0.8120\n",
      "Epoch 8/20\n",
      "16/16 [==============================] - 0s 21ms/step - loss: 0.3628 - acc: 0.9218 - val_loss: 0.9055 - val_acc: 0.8140\n",
      "Epoch 9/20\n",
      "16/16 [==============================] - 0s 20ms/step - loss: 0.2970 - acc: 0.9359 - val_loss: 0.9103 - val_acc: 0.8190\n",
      "Epoch 10/20\n",
      "16/16 [==============================] - 0s 21ms/step - loss: 0.2512 - acc: 0.9427 - val_loss: 0.9006 - val_acc: 0.8130\n",
      "Epoch 11/20\n",
      "16/16 [==============================] - 0s 20ms/step - loss: 0.2149 - acc: 0.9484 - val_loss: 0.9083 - val_acc: 0.8180\n",
      "Epoch 12/20\n",
      "16/16 [==============================] - 0s 21ms/step - loss: 0.1873 - acc: 0.9513 - val_loss: 0.9430 - val_acc: 0.8160\n",
      "Epoch 13/20\n",
      "16/16 [==============================] - 0s 20ms/step - loss: 0.1683 - acc: 0.9516 - val_loss: 0.9977 - val_acc: 0.8000\n",
      "Epoch 14/20\n",
      "16/16 [==============================] - 0s 21ms/step - loss: 0.1538 - acc: 0.9562 - val_loss: 0.9485 - val_acc: 0.8170\n",
      "Epoch 15/20\n",
      "16/16 [==============================] - 0s 21ms/step - loss: 0.1405 - acc: 0.9551 - val_loss: 1.0157 - val_acc: 0.7960\n",
      "Epoch 16/20\n",
      "16/16 [==============================] - 0s 20ms/step - loss: 0.1326 - acc: 0.9567 - val_loss: 1.0177 - val_acc: 0.8080\n",
      "Epoch 17/20\n",
      "16/16 [==============================] - 0s 21ms/step - loss: 0.1285 - acc: 0.9544 - val_loss: 0.9960 - val_acc: 0.8080\n",
      "Epoch 18/20\n",
      "16/16 [==============================] - 0s 20ms/step - loss: 0.1201 - acc: 0.9577 - val_loss: 1.0681 - val_acc: 0.8080\n",
      "Epoch 19/20\n",
      "16/16 [==============================] - 0s 20ms/step - loss: 0.1197 - acc: 0.9562 - val_loss: 1.0208 - val_acc: 0.8110\n",
      "Epoch 20/20\n",
      "16/16 [==============================] - 0s 21ms/step - loss: 0.1131 - acc: 0.9544 - val_loss: 1.0954 - val_acc: 0.7920\n"
     ]
    }
   ],
   "source": [
    "history = model.fit(partial_x_train,\n",
    "                    partial_y_train,\n",
    "                    epochs=20,\n",
    "                    batch_size=512,\n",
    "                    validation_data=(x_val, y_val))"
   ]
  },
  {
   "cell_type": "markdown",
   "metadata": {},
   "source": [
    "Let's display its loss and accuracy curves:"
   ]
  },
  {
   "cell_type": "code",
   "execution_count": 17,
   "metadata": {},
   "outputs": [
    {
     "data": {
      "image/png": "[encoded data removed]",
      "text/plain": [
       "<Figure size 432x288 with 1 Axes>"
      ]
     },
     "metadata": {
      "needs_background": "light"
     },
     "output_type": "display_data"
    }
   ],
   "source": [
    "import matplotlib.pyplot as plt\n",
    "\n",
    "loss = history.history['loss']\n",
    "val_loss = history.history['val_loss']\n",
    "\n",
    "epochs = range(1, len(loss) + 1)\n",
    "\n",
    "plt.plot(epochs, loss, 'bo', label='Training loss')\n",
    "plt.plot(epochs, val_loss, 'b', label='Validation loss')\n",
    "plt.title('Training and validation loss')\n",
    "plt.xlabel('Epochs')\n",
    "plt.ylabel('Loss')\n",
    "plt.legend()\n",
    "\n",
    "plt.show()"
   ]
  },
  {
   "cell_type": "code",
   "execution_count": 18,
   "metadata": {},
   "outputs": [
    {
     "data": {
      "text/plain": [
       "dict_keys(['loss', 'acc', 'val_loss', 'val_acc'])"
      ]
     },
     "execution_count": 18,
     "metadata": {},
     "output_type": "execute_result"
    }
   ],
   "source": [
    "history_dict = history.history\n",
    "history_dict.keys()"
   ]
  },
  {
   "cell_type": "code",
   "execution_count": 19,
   "metadata": {},
   "outputs": [
    {
     "data": {
      "image/png": "[encoded data removed]",
      "text/plain": [
       "<Figure size 432x288 with 1 Axes>"
      ]
     },
     "metadata": {
      "needs_background": "light"
     },
     "output_type": "display_data"
    }
   ],
   "source": [
    "plt.clf()   # clear figure\n",
    "\n",
    "acc = history.history['acc']\n",
    "val_acc = history.history['val_acc']\n",
    "\n",
    "plt.plot(epochs, acc, 'bo', label='Training acc')\n",
    "plt.plot(epochs, val_acc, 'b', label='Validation acc')\n",
    "plt.title('Training and validation accuracy')\n",
    "plt.xlabel('Epochs')\n",
    "plt.ylabel('Accuracy')\n",
    "plt.legend()\n",
    "\n",
    "plt.show()"
   ]
  },
  {
   "cell_type": "markdown",
   "metadata": {},
   "source": [
    "It seems that the network starts overfitting after 8 epochs. Let's train a new network from scratch for 8 epochs, then let's evaluate it on \n",
    "the test set:\n",
    "\n",
    "8エポックの後、このネットワークは過学習に陥っている。"
   ]
  },
  {
   "cell_type": "code",
   "execution_count": 20,
   "metadata": {},
   "outputs": [
    {
     "name": "stdout",
     "output_type": "stream",
     "text": [
      "Epoch 1/8\n",
      "16/16 [==============================] - 1s 38ms/step - loss: 2.6768 - accuracy: 0.4756 - val_loss: 1.8037 - val_accuracy: 0.6560\n",
      "Epoch 2/8\n",
      "16/16 [==============================] - 0s 20ms/step - loss: 1.4599 - accuracy: 0.6986 - val_loss: 1.3249 - val_accuracy: 0.7030\n",
      "Epoch 3/8\n",
      "16/16 [==============================] - 0s 19ms/step - loss: 1.0706 - accuracy: 0.7769 - val_loss: 1.1173 - val_accuracy: 0.7630\n",
      "Epoch 4/8\n",
      "16/16 [==============================] - 0s 20ms/step - loss: 0.8283 - accuracy: 0.8266 - val_loss: 1.0039 - val_accuracy: 0.7960\n",
      "Epoch 5/8\n",
      "16/16 [==============================] - 0s 19ms/step - loss: 0.6549 - accuracy: 0.8627 - val_loss: 0.9723 - val_accuracy: 0.7960\n",
      "Epoch 6/8\n",
      "16/16 [==============================] - 0s 20ms/step - loss: 0.5204 - accuracy: 0.8928 - val_loss: 0.9098 - val_accuracy: 0.8120\n",
      "Epoch 7/8\n",
      "16/16 [==============================] - 0s 20ms/step - loss: 0.4183 - accuracy: 0.9157 - val_loss: 0.9079 - val_accuracy: 0.8090\n",
      "Epoch 8/8\n",
      "16/16 [==============================] - 0s 20ms/step - loss: 0.3427 - accuracy: 0.9297 - val_loss: 0.8728 - val_accuracy: 0.8160\n",
      "71/71 [==============================] - 0s 1ms/step - loss: 0.9736 - accuracy: 0.7872\n"
     ]
    }
   ],
   "source": [
    "# モデルの訓練をやり直す\n",
    "\n",
    "model = models.Sequential()\n",
    "model.add(layers.Dense(64, activation='relu', input_shape=(10000,)))\n",
    "model.add(layers.Dense(64, activation='relu'))\n",
    "model.add(layers.Dense(46, activation='softmax'))\n",
    "\n",
    "model.compile(optimizer='rmsprop',\n",
    "              loss='categorical_crossentropy',\n",
    "              metrics=['accuracy'])\n",
    "model.fit(partial_x_train,\n",
    "          partial_y_train,\n",
    "          epochs=8,\n",
    "          batch_size=512,\n",
    "          validation_data=(x_val, y_val))\n",
    "results = model.evaluate(x_test, one_hot_test_labels)"
   ]
  },
  {
   "cell_type": "code",
   "execution_count": 21,
   "metadata": {},
   "outputs": [
    {
     "data": {
      "text/plain": [
       "[0.9735584855079651, 0.7871772050857544]"
      ]
     },
     "execution_count": 21,
     "metadata": {},
     "output_type": "execute_result"
    }
   ],
   "source": [
    "results"
   ]
  },
  {
   "cell_type": "markdown",
   "metadata": {},
   "source": [
    "\n",
    "Our approach reaches an accuracy of ~78%. With a balanced binary classification problem, the accuracy reached by a purely random classifier \n",
    "would be 50%, but in our case it is closer to 19%, so our results seem pretty good, at least when compared to a random baseline:"
   ]
  },
  {
   "cell_type": "code",
   "execution_count": 22,
   "metadata": {},
   "outputs": [
    {
     "data": {
      "text/plain": [
       "0.1798753339269813"
      ]
     },
     "execution_count": 22,
     "metadata": {},
     "output_type": "execute_result"
    }
   ],
   "source": [
    "import copy\n",
    "\n",
    "test_labels_copy = copy.copy(test_labels)\n",
    "np.random.shuffle(test_labels_copy)\n",
    "float(np.sum(np.array(test_labels) == np.array(test_labels_copy))) / len(test_labels)"
   ]
  },
  {
   "cell_type": "markdown",
   "metadata": {},
   "source": [
    "## Generating predictions on new data\n",
    "\n",
    "We can verify that the `predict` method of our model instance returns a probability distribution over all 46 topics. Let's generate topic \n",
    "predictions for all of the test data:"
   ]
  },
  {
   "cell_type": "code",
   "execution_count": 23,
   "metadata": {},
   "outputs": [],
   "source": [
    "predictions = model.predict(x_test)"
   ]
  },
  {
   "cell_type": "markdown",
   "metadata": {},
   "source": [
    "Each entry in `predictions` is a vector of length 46:"
   ]
  },
  {
   "cell_type": "code",
   "execution_count": 24,
   "metadata": {},
   "outputs": [
    {
     "data": {
      "text/plain": [
       "(46,)"
      ]
     },
     "execution_count": 24,
     "metadata": {},
     "output_type": "execute_result"
    }
   ],
   "source": [
    "predictions[0].shape\n",
    "# predictions[0]"
   ]
  },
  {
   "cell_type": "markdown",
   "metadata": {},
   "source": [
    "The coefficients in this vector sum to 1:"
   ]
  },
  {
   "cell_type": "code",
   "execution_count": 25,
   "metadata": {},
   "outputs": [
    {
     "data": {
      "text/plain": [
       "1.0"
      ]
     },
     "execution_count": 25,
     "metadata": {},
     "output_type": "execute_result"
    }
   ],
   "source": [
    "np.sum(predictions[0])"
   ]
  },
  {
   "cell_type": "markdown",
   "metadata": {},
   "source": [
    "The largest entry is the predicted class, i.e. the class with the highest probability:"
   ]
  },
  {
   "cell_type": "code",
   "execution_count": 26,
   "metadata": {},
   "outputs": [
    {
     "data": {
      "text/plain": [
       "3"
      ]
     },
     "execution_count": 26,
     "metadata": {},
     "output_type": "execute_result"
    }
   ],
   "source": [
    "np.argmax(predictions[0])"
   ]
  },
  {
   "cell_type": "markdown",
   "metadata": {},
   "source": [
    "## A different way to handle the labels and the loss\n",
    "\n",
    "We mentioned earlier that another way to encode the labels would be to cast them as an integer tensor, like such:\n",
    "\n",
    "ラベルと損失値を処理する別の方法。"
   ]
  },
  {
   "cell_type": "code",
   "execution_count": 27,
   "metadata": {},
   "outputs": [],
   "source": [
    "y_train = np.array(train_labels)\n",
    "y_test = np.array(test_labels)"
   ]
  },
  {
   "cell_type": "markdown",
   "metadata": {},
   "source": [
    "\n",
    "The only thing it would change is the choice of the loss function. Our previous loss, `categorical_crossentropy`, expects the labels to \n",
    "follow a categorical encoding. With integer labels, we should use `sparse_categorical_crossentropy`:"
   ]
  },
  {
   "cell_type": "code",
   "execution_count": 28,
   "metadata": {},
   "outputs": [],
   "source": [
    "model.compile(optimizer='rmsprop', loss='sparse_categorical_crossentropy', metrics=['acc'])"
   ]
  },
  {
   "cell_type": "markdown",
   "metadata": {},
   "source": [
    "This new loss function is still mathematically the same as `categorical_crossentropy`; it just has a different interface."
   ]
  },
  {
   "cell_type": "markdown",
   "metadata": {},
   "source": [
    "## On the importance of having sufficiently large intermediate layers\n",
    "\n",
    "\n",
    "We mentioned earlier that since our final outputs were 46-dimensional, we should avoid intermediate layers with much less than 46 hidden \n",
    "units. Now let's try to see what happens when we introduce an information bottleneck by having intermediate layers significantly less than \n",
    "46-dimensional, e.g. 4-dimensional."
   ]
  },
  {
   "cell_type": "code",
   "execution_count": 29,
   "metadata": {},
   "outputs": [
    {
     "name": "stdout",
     "output_type": "stream",
     "text": [
      "Epoch 1/20\n",
      "63/63 [==============================] - 1s 10ms/step - loss: 2.8186 - acc: 0.2402 - val_loss: 2.1978 - val_acc: 0.2850\n",
      "Epoch 2/20\n",
      "63/63 [==============================] - 1s 9ms/step - loss: 1.7777 - acc: 0.5578 - val_loss: 1.5694 - val_acc: 0.6680\n",
      "Epoch 3/20\n",
      "63/63 [==============================] - 1s 9ms/step - loss: 1.3209 - acc: 0.6972 - val_loss: 1.4064 - val_acc: 0.6820\n",
      "Epoch 4/20\n",
      "63/63 [==============================] - 1s 9ms/step - loss: 1.1375 - acc: 0.7156 - val_loss: 1.3341 - val_acc: 0.6880\n",
      "Epoch 5/20\n",
      "63/63 [==============================] - 1s 9ms/step - loss: 1.0270 - acc: 0.7301 - val_loss: 1.3242 - val_acc: 0.6840\n",
      "Epoch 6/20\n",
      "63/63 [==============================] - 1s 9ms/step - loss: 0.9404 - acc: 0.7517 - val_loss: 1.3319 - val_acc: 0.6840\n",
      "Epoch 7/20\n",
      "63/63 [==============================] - 1s 9ms/step - loss: 0.8660 - acc: 0.7714 - val_loss: 1.3381 - val_acc: 0.6950\n",
      "Epoch 8/20\n",
      "63/63 [==============================] - 1s 9ms/step - loss: 0.8013 - acc: 0.7907 - val_loss: 1.3476 - val_acc: 0.6960\n",
      "Epoch 9/20\n",
      "63/63 [==============================] - 1s 9ms/step - loss: 0.7425 - acc: 0.8034 - val_loss: 1.3715 - val_acc: 0.7080\n",
      "Epoch 10/20\n",
      "63/63 [==============================] - 1s 9ms/step - loss: 0.6943 - acc: 0.8215 - val_loss: 1.4166 - val_acc: 0.7080\n",
      "Epoch 11/20\n",
      "63/63 [==============================] - 1s 9ms/step - loss: 0.6486 - acc: 0.8345 - val_loss: 1.4063 - val_acc: 0.7130\n",
      "Epoch 12/20\n",
      "63/63 [==============================] - 1s 9ms/step - loss: 0.6097 - acc: 0.8443 - val_loss: 1.4477 - val_acc: 0.7200\n",
      "Epoch 13/20\n",
      "63/63 [==============================] - 1s 9ms/step - loss: 0.5734 - acc: 0.8514 - val_loss: 1.5314 - val_acc: 0.7110\n",
      "Epoch 14/20\n",
      "63/63 [==============================] - 1s 9ms/step - loss: 0.5422 - acc: 0.8592 - val_loss: 1.5754 - val_acc: 0.7090\n",
      "Epoch 15/20\n",
      "63/63 [==============================] - 1s 9ms/step - loss: 0.5150 - acc: 0.8646 - val_loss: 1.6005 - val_acc: 0.7110\n",
      "Epoch 16/20\n",
      "63/63 [==============================] - 1s 10ms/step - loss: 0.4885 - acc: 0.8663 - val_loss: 1.6745 - val_acc: 0.7020\n",
      "Epoch 17/20\n",
      "63/63 [==============================] - 1s 9ms/step - loss: 0.4680 - acc: 0.8672 - val_loss: 1.6993 - val_acc: 0.7100\n",
      "Epoch 18/20\n",
      "63/63 [==============================] - 1s 9ms/step - loss: 0.4468 - acc: 0.8716 - val_loss: 1.7763 - val_acc: 0.7040\n",
      "Epoch 19/20\n",
      "63/63 [==============================] - 1s 9ms/step - loss: 0.4298 - acc: 0.8794 - val_loss: 1.8520 - val_acc: 0.7090\n",
      "Epoch 20/20\n",
      "63/63 [==============================] - 1s 9ms/step - loss: 0.4166 - acc: 0.8829 - val_loss: 1.8948 - val_acc: 0.7040\n"
     ]
    },
    {
     "data": {
      "text/plain": [
       "<tensorflow.python.keras.callbacks.History at 0x146b6f748>"
      ]
     },
     "execution_count": 29,
     "metadata": {},
     "output_type": "execute_result"
    }
   ],
   "source": [
    "model = models.Sequential()\n",
    "model.add(layers.Dense(64, activation='relu', input_shape=(10000,)))\n",
    "model.add(layers.Dense(4, activation='relu'))\n",
    "model.add(layers.Dense(46, activation='softmax'))\n",
    "\n",
    "model.compile(optimizer='rmsprop',\n",
    "              loss='categorical_crossentropy',\n",
    "              metrics=['acc'])\n",
    "model.fit(partial_x_train,\n",
    "          partial_y_train,\n",
    "          epochs=20,\n",
    "          batch_size=128,\n",
    "          validation_data=(x_val, y_val))"
   ]
  },
  {
   "cell_type": "code",
   "execution_count": 53,
   "metadata": {},
   "outputs": [
    {
     "name": "stdout",
     "output_type": "stream",
     "text": [
      "2246/2246 [==============================] - 3s 1ms/step\n"
     ]
    },
    {
     "data": {
      "text/plain": [
       "[2.026496241799658, 0.6482635797503158]"
      ]
     },
     "execution_count": 53,
     "metadata": {},
     "output_type": "execute_result"
    }
   ],
   "source": [
    "results = model.evaluate(x_test, one_hot_test_labels)\n",
    "results"
   ]
  },
  {
   "cell_type": "markdown",
   "metadata": {},
   "source": [
    "\n",
    "Our network now seems to peak at ~71% test accuracy, a 8% absolute drop. This drop is mostly due to the fact that we are now trying to \n",
    "compress a lot of information (enough information to recover the separation hyperplanes of 46 classes) into an intermediate space that is \n",
    "too low-dimensional. The network is able to cram _most_ of the necessary information into these 8-dimensional representations, but not all \n",
    "of it."
   ]
  },
  {
   "cell_type": "markdown",
   "metadata": {},
   "source": [
    "## モデルの訓練を他の設定でやりなおして、結果を比較する\n",
    "* 2層の隠れユニットを64 -> 128 "
   ]
  },
  {
   "cell_type": "code",
   "execution_count": 31,
   "metadata": {},
   "outputs": [
    {
     "name": "stdout",
     "output_type": "stream",
     "text": [
      "Epoch 1/20\n",
      "63/63 [==============================] - 1s 17ms/step - loss: 1.5478 - acc: 0.6674 - val_loss: 1.0685 - val_acc: 0.7610\n",
      "Epoch 2/20\n",
      "63/63 [==============================] - 1s 14ms/step - loss: 0.7603 - acc: 0.8324 - val_loss: 0.9166 - val_acc: 0.8060\n",
      "Epoch 3/20\n",
      "63/63 [==============================] - 1s 14ms/step - loss: 0.4609 - acc: 0.9010 - val_loss: 0.8622 - val_acc: 0.8230\n",
      "Epoch 4/20\n",
      "63/63 [==============================] - 1s 14ms/step - loss: 0.3095 - acc: 0.9320 - val_loss: 0.9282 - val_acc: 0.8120\n",
      "Epoch 5/20\n",
      "63/63 [==============================] - 1s 15ms/step - loss: 0.2259 - acc: 0.9471 - val_loss: 0.9505 - val_acc: 0.8110\n",
      "Epoch 6/20\n",
      "63/63 [==============================] - 1s 14ms/step - loss: 0.1930 - acc: 0.9501 - val_loss: 0.9636 - val_acc: 0.8240\n",
      "Epoch 7/20\n",
      "63/63 [==============================] - 1s 15ms/step - loss: 0.1731 - acc: 0.9516 - val_loss: 1.0217 - val_acc: 0.8090\n",
      "Epoch 8/20\n",
      "63/63 [==============================] - 1s 15ms/step - loss: 0.1494 - acc: 0.9579 - val_loss: 1.1314 - val_acc: 0.7920\n",
      "Epoch 9/20\n",
      "63/63 [==============================] - 1s 15ms/step - loss: 0.1398 - acc: 0.9560 - val_loss: 1.0867 - val_acc: 0.7970\n",
      "Epoch 10/20\n",
      "63/63 [==============================] - 1s 15ms/step - loss: 0.1383 - acc: 0.9544 - val_loss: 1.0017 - val_acc: 0.8070\n",
      "Epoch 11/20\n",
      "63/63 [==============================] - 1s 15ms/step - loss: 0.1273 - acc: 0.9543 - val_loss: 1.1105 - val_acc: 0.8060\n",
      "Epoch 12/20\n",
      "63/63 [==============================] - 1s 16ms/step - loss: 0.1198 - acc: 0.9541 - val_loss: 1.1066 - val_acc: 0.8090\n",
      "Epoch 13/20\n",
      "63/63 [==============================] - 1s 15ms/step - loss: 0.1132 - acc: 0.9555 - val_loss: 1.1841 - val_acc: 0.8090\n",
      "Epoch 14/20\n",
      "63/63 [==============================] - 1s 15ms/step - loss: 0.1060 - acc: 0.9573 - val_loss: 1.2389 - val_acc: 0.7980\n",
      "Epoch 15/20\n",
      "63/63 [==============================] - 1s 15ms/step - loss: 0.1005 - acc: 0.9575 - val_loss: 1.3396 - val_acc: 0.8020\n",
      "Epoch 16/20\n",
      "63/63 [==============================] - 1s 15ms/step - loss: 0.0982 - acc: 0.9567 - val_loss: 1.4083 - val_acc: 0.7880\n",
      "Epoch 17/20\n",
      "63/63 [==============================] - 1s 15ms/step - loss: 0.0935 - acc: 0.9574 - val_loss: 1.4966 - val_acc: 0.8000\n",
      "Epoch 18/20\n",
      "63/63 [==============================] - 1s 15ms/step - loss: 0.0914 - acc: 0.9564 - val_loss: 1.4779 - val_acc: 0.7930\n",
      "Epoch 19/20\n",
      "63/63 [==============================] - 1s 15ms/step - loss: 0.0883 - acc: 0.9563 - val_loss: 1.5818 - val_acc: 0.7910\n",
      "Epoch 20/20\n",
      "63/63 [==============================] - 1s 15ms/step - loss: 0.0842 - acc: 0.9578 - val_loss: 1.6209 - val_acc: 0.7950\n",
      "71/71 [==============================] - 0s 2ms/step - loss: 2.0673 - acc: 0.7747\n"
     ]
    },
    {
     "data": {
      "text/plain": [
       "[2.06734037399292, 0.7747105956077576]"
      ]
     },
     "execution_count": 31,
     "metadata": {},
     "output_type": "execute_result"
    }
   ],
   "source": [
    "model = models.Sequential()\n",
    "model.add(layers.Dense(128, activation='relu', input_shape=(10000,)))\n",
    "model.add(layers.Dense(128, activation='relu'))\n",
    "model.add(layers.Dense(46, activation='softmax'))\n",
    "\n",
    "model.compile(optimizer='rmsprop',\n",
    "              loss='categorical_crossentropy',\n",
    "              metrics=['acc'])\n",
    "model.fit(partial_x_train,\n",
    "          partial_y_train,\n",
    "          epochs=20,\n",
    "          batch_size=128,\n",
    "          validation_data=(x_val, y_val))\n",
    "\n",
    "results = model.evaluate(x_test, one_hot_test_labels)\n",
    "results"
   ]
  },
  {
   "cell_type": "markdown",
   "metadata": {},
   "source": [
    "## Further experiments\n",
    "\n",
    "* Try using larger or smaller layers: 32 units, 128 units...\n",
    "* We were using two hidden layers. Now try to use a single hidden layer, or three hidden layers."
   ]
  },
  {
   "cell_type": "code",
   "execution_count": 36,
   "metadata": {},
   "outputs": [
    {
     "name": "stdout",
     "output_type": "stream",
     "text": [
      "Epoch 1/8\n",
      "16/16 [==============================] - 0s 26ms/step - loss: 2.6003 - acc: 0.5104 - val_loss: 1.7393 - val_acc: 0.6090\n",
      "Epoch 2/8\n",
      "16/16 [==============================] - 0s 20ms/step - loss: 1.4357 - acc: 0.6964 - val_loss: 1.3510 - val_acc: 0.6980\n",
      "Epoch 3/8\n",
      "16/16 [==============================] - 0s 20ms/step - loss: 1.1149 - acc: 0.7588 - val_loss: 1.2173 - val_acc: 0.7240\n",
      "Epoch 4/8\n",
      "16/16 [==============================] - 0s 20ms/step - loss: 0.8973 - acc: 0.8032 - val_loss: 1.1461 - val_acc: 0.7560\n",
      "Epoch 5/8\n",
      "16/16 [==============================] - 0s 21ms/step - loss: 0.7211 - acc: 0.8405 - val_loss: 1.0560 - val_acc: 0.7870\n",
      "Epoch 6/8\n",
      "16/16 [==============================] - 0s 19ms/step - loss: 0.5780 - acc: 0.8686 - val_loss: 1.0237 - val_acc: 0.7890\n",
      "Epoch 7/8\n",
      "16/16 [==============================] - 0s 25ms/step - loss: 0.4688 - acc: 0.8959 - val_loss: 1.0356 - val_acc: 0.7970\n",
      "Epoch 8/8\n",
      "16/16 [==============================] - 0s 21ms/step - loss: 0.3854 - acc: 0.9193 - val_loss: 1.0310 - val_acc: 0.7910\n"
     ]
    },
    {
     "data": {
      "text/plain": [
       "<tensorflow.python.keras.callbacks.History at 0x17e7d3748>"
      ]
     },
     "execution_count": 36,
     "metadata": {},
     "output_type": "execute_result"
    }
   ],
   "source": [
    "# 隠れ層を３つに。\n",
    "model = models.Sequential()\n",
    "model.add(layers.Dense(64, activation='relu', input_shape=(10000,)))\n",
    "model.add(layers.Dense(64, activation='relu'))\n",
    "model.add(layers.Dense(64, activation='relu'))\n",
    "model.add(layers.Dense(46, activation='softmax'))\n",
    "\n",
    "model.compile(optimizer='rmsprop',\n",
    "              loss='categorical_crossentropy',\n",
    "              metrics=['acc'])\n",
    "model.fit(partial_x_train,\n",
    "          partial_y_train,\n",
    "          epochs=8,\n",
    "          batch_size=512,\n",
    "          validation_data=(x_val, y_val))"
   ]
  },
  {
   "cell_type": "code",
   "execution_count": 37,
   "metadata": {},
   "outputs": [
    {
     "name": "stdout",
     "output_type": "stream",
     "text": [
      "71/71 [==============================] - 0s 1ms/step - loss: 1.1150 - acc: 0.7720\n"
     ]
    },
    {
     "data": {
      "text/plain": [
       "[1.1150263547897339, 0.7720391750335693]"
      ]
     },
     "execution_count": 37,
     "metadata": {},
     "output_type": "execute_result"
    }
   ],
   "source": [
    "results = model.evaluate(x_test, one_hot_test_labels)\n",
    "results"
   ]
  },
  {
   "cell_type": "code",
   "execution_count": 38,
   "metadata": {},
   "outputs": [
    {
     "name": "stdout",
     "output_type": "stream",
     "text": [
      "Epoch 1/8\n",
      "16/16 [==============================] - 1s 39ms/step - loss: 2.2028 - acc: 0.5215 - val_loss: 1.4611 - val_acc: 0.6600\n",
      "Epoch 2/8\n",
      "16/16 [==============================] - 1s 32ms/step - loss: 1.2480 - acc: 0.7114 - val_loss: 1.2583 - val_acc: 0.7020\n",
      "Epoch 3/8\n",
      "16/16 [==============================] - 1s 32ms/step - loss: 0.9328 - acc: 0.7829 - val_loss: 1.1004 - val_acc: 0.7670\n",
      "Epoch 4/8\n",
      "16/16 [==============================] - 1s 32ms/step - loss: 0.7336 - acc: 0.8260 - val_loss: 1.0965 - val_acc: 0.7600\n",
      "Epoch 5/8\n",
      "16/16 [==============================] - 1s 37ms/step - loss: 0.5891 - acc: 0.8544 - val_loss: 0.9993 - val_acc: 0.7930\n",
      "Epoch 6/8\n",
      "16/16 [==============================] - 1s 33ms/step - loss: 0.4286 - acc: 0.8979 - val_loss: 1.0431 - val_acc: 0.7860\n",
      "Epoch 7/8\n",
      "16/16 [==============================] - 1s 33ms/step - loss: 0.3386 - acc: 0.9214 - val_loss: 0.9673 - val_acc: 0.8220\n",
      "Epoch 8/8\n",
      "16/16 [==============================] - 1s 33ms/step - loss: 0.2611 - acc: 0.9394 - val_loss: 1.1301 - val_acc: 0.7870\n",
      "71/71 [==============================] - 0s 2ms/step - loss: 1.2522 - acc: 0.7654\n"
     ]
    },
    {
     "data": {
      "text/plain": [
       "[1.2521982192993164, 0.7653606534004211]"
      ]
     },
     "execution_count": 38,
     "metadata": {},
     "output_type": "execute_result"
    }
   ],
   "source": [
    "# 隠れ層を4つに。中間層を128ユニットに。\n",
    "model = models.Sequential()\n",
    "model.add(layers.Dense(128, activation='relu', input_shape=(10000,)))\n",
    "model.add(layers.Dense(128, activation='relu'))\n",
    "model.add(layers.Dense(128, activation='relu'))\n",
    "model.add(layers.Dense(128, activation='relu'))\n",
    "model.add(layers.Dense(46, activation='softmax'))\n",
    "\n",
    "model.compile(optimizer='rmsprop',\n",
    "              loss='categorical_crossentropy',\n",
    "              metrics=['acc'])\n",
    "model.fit(partial_x_train,\n",
    "          partial_y_train,\n",
    "          epochs=8,\n",
    "          batch_size=512,\n",
    "          validation_data=(x_val, y_val))\n",
    "results = model.evaluate(x_test, one_hot_test_labels)\n",
    "results"
   ]
  },
  {
   "cell_type": "code",
   "execution_count": 40,
   "metadata": {},
   "outputs": [
    {
     "name": "stdout",
     "output_type": "stream",
     "text": [
      "Epoch 1/8\n",
      "16/16 [==============================] - 1s 36ms/step - loss: 2.2098 - acc: 0.5536 - val_loss: 1.3864 - val_acc: 0.6920\n",
      "Epoch 2/8\n",
      "16/16 [==============================] - 0s 28ms/step - loss: 1.1061 - acc: 0.7657 - val_loss: 1.1281 - val_acc: 0.7610\n",
      "Epoch 3/8\n",
      "16/16 [==============================] - 0s 29ms/step - loss: 0.7810 - acc: 0.8345 - val_loss: 0.9703 - val_acc: 0.8020\n",
      "Epoch 4/8\n",
      "16/16 [==============================] - 0s 30ms/step - loss: 0.5677 - acc: 0.8829 - val_loss: 0.8887 - val_acc: 0.8170\n",
      "Epoch 5/8\n",
      "16/16 [==============================] - 0s 29ms/step - loss: 0.4120 - acc: 0.9162 - val_loss: 0.9406 - val_acc: 0.7980\n",
      "Epoch 6/8\n",
      "16/16 [==============================] - 0s 30ms/step - loss: 0.3183 - acc: 0.9321 - val_loss: 0.8710 - val_acc: 0.8130\n",
      "Epoch 7/8\n",
      "16/16 [==============================] - 0s 30ms/step - loss: 0.2508 - acc: 0.9431 - val_loss: 0.8688 - val_acc: 0.8250\n",
      "Epoch 8/8\n",
      "16/16 [==============================] - 0s 30ms/step - loss: 0.2009 - acc: 0.9485 - val_loss: 0.8858 - val_acc: 0.8170\n",
      "71/71 [==============================] - 0s 2ms/step - loss: 0.9871 - acc: 0.7912\n"
     ]
    },
    {
     "data": {
      "text/plain": [
       "[0.9871344566345215, 0.7911843061447144]"
      ]
     },
     "execution_count": 40,
     "metadata": {},
     "output_type": "execute_result"
    }
   ],
   "source": [
    "# 隠れ層を1つに。中間層を128ユニットに。\n",
    "model = models.Sequential()\n",
    "model.add(layers.Dense(128, activation='relu', input_shape=(10000,)))\n",
    "model.add(layers.Dense(128, activation='relu'))\n",
    "model.add(layers.Dense(46, activation='softmax'))\n",
    "\n",
    "model.compile(optimizer='rmsprop',\n",
    "              loss='categorical_crossentropy',\n",
    "              metrics=['acc'])\n",
    "model.fit(partial_x_train,\n",
    "          partial_y_train,\n",
    "          epochs=8,\n",
    "          batch_size=512,\n",
    "          validation_data=(x_val, y_val))\n",
    "results = model.evaluate(x_test, one_hot_test_labels)\n",
    "results"
   ]
  },
  {
   "cell_type": "markdown",
   "metadata": {},
   "source": [
    "## Wrapping up\n",
    "\n",
    "\n",
    "Here's what you should take away from this example:\n",
    "\n",
    "* If you are trying to classify data points between N classes, your network should end with a `Dense` layer of size N.\n",
    "* In a single-label, multi-class classification problem, your network should end with a `softmax` activation, so that it will output a \n",
    "probability distribution over the N output classes.\n",
    "* _Categorical crossentropy_ is almost always the loss function you should use for such problems. It minimizes the distance between the \n",
    "probability distributions output by the network, and the true distribution of the targets.\n",
    "* There are two ways to handle labels in multi-class classification:\n",
    "    ** Encoding the labels via \"categorical encoding\" (also known as \"one-hot encoding\") and using `categorical_crossentropy` as your loss \n",
    "function.\n",
    "    ** Encoding the labels as integers and using the `sparse_categorical_crossentropy` loss function.\n",
    "* If you need to classify data into a large number of categories, then you should avoid creating information bottlenecks in your network by having \n",
    "intermediate layers that are too small."
   ]
  }
 ],
 "metadata": {
  "kernelspec": {
   "display_name": "Python 3",
   "language": "python",
   "name": "python3"
  },
  "language_info": {
   "codemirror_mode": {
    "name": "ipython",
    "version": 3
   },
   "file_extension": ".py",
   "mimetype": "text/x-python",
   "name": "python",
   "nbconvert_exporter": "python",
   "pygments_lexer": "ipython3",
   "version": "3.7.3"
  }
 },
 "nbformat": 4,
 "nbformat_minor": 2
}
