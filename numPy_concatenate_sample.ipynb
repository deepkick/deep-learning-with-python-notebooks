{
 "cells": [
  {
   "cell_type": "code",
   "execution_count": 1,
   "metadata": {},
   "outputs": [],
   "source": [
    "import numpy as np"
   ]
  },
  {
   "cell_type": "code",
   "execution_count": 2,
   "metadata": {},
   "outputs": [],
   "source": [
    "def array_info(x):\n",
    "    print(\"配列のshape\", x.shape)\n",
    "    print(\"配列の要素のデータ型\", x.dtype)\n",
    "    print(\"配列の中身\\n\",x,\"\\n\")\n",
    " \n",
    "a = np.arange(0, 5 )\n",
    "b = np.arange(5, 10)\n",
    "c = np.arange(10,20)\n",
    "c = np.reshape(c, (2,5))"
   ]
  },
  {
   "cell_type": "code",
   "execution_count": 7,
   "metadata": {},
   "outputs": [
    {
     "name": "stdout",
     "output_type": "stream",
     "text": [
      "配列のshape (5,)\n",
      "配列の要素のデータ型 int64\n",
      "配列の中身\n",
      " [0 1 2 3 4] \n",
      "\n",
      "配列のshape (5,)\n",
      "配列の要素のデータ型 int64\n",
      "配列の中身\n",
      " [5 6 7 8 9] \n",
      "\n",
      "配列のshape (2, 5)\n",
      "配列の要素のデータ型 int64\n",
      "配列の中身\n",
      " [[10 11 12 13 14]\n",
      " [15 16 17 18 19]] \n",
      "\n"
     ]
    }
   ],
   "source": [
    "array_info(a)\n",
    "array_info(b)\n",
    "array_info(c)"
   ]
  },
  {
   "cell_type": "markdown",
   "metadata": {},
   "source": [
    "### 一次元配列同士の連結  "
   ]
  },
  {
   "cell_type": "code",
   "execution_count": 8,
   "metadata": {},
   "outputs": [
    {
     "name": "stdout",
     "output_type": "stream",
     "text": [
      "[0 1 2 3 4 5 6 7 8 9]\n",
      "[0 1 2 3 4 5 6 7 8 9]\n"
     ]
    }
   ],
   "source": [
    "concat_ab = np.concatenate([a,b])\n",
    "concat_ab_axis0 = np.concatenate([a,b], axis=0) # 上と同じ結果になります\n",
    " \n",
    "print(concat_ab)\n",
    "print(concat_ab_axis0)"
   ]
  },
  {
   "cell_type": "markdown",
   "metadata": {},
   "source": [
    "### ２次元配列同士の連結"
   ]
  },
  {
   "cell_type": "code",
   "execution_count": 11,
   "metadata": {},
   "outputs": [
    {
     "name": "stdout",
     "output_type": "stream",
     "text": [
      "配列のshape (1, 5)\n",
      "配列の要素のデータ型 int64\n",
      "配列の中身\n",
      " [[0 1 2 3 4]] \n",
      "\n",
      "配列のshape (1, 5)\n",
      "配列の要素のデータ型 int64\n",
      "配列の中身\n",
      " [[5 6 7 8 9]] \n",
      "\n",
      "a2.shape =  (1, 5)\n",
      "b2.shape =  (1, 5)\n"
     ]
    }
   ],
   "source": [
    "a2 = a[None,:]\n",
    "b2 = b[None,:]\n",
    " \n",
    "array_info(a2)\n",
    "array_info(b2)\n",
    "print('a2.shape = ', a2.shape) # (1, 5)\n",
    "print('b2.shape = ', b2.shape) # (1, 5)"
   ]
  },
  {
   "cell_type": "code",
   "execution_count": 12,
   "metadata": {},
   "outputs": [
    {
     "name": "stdout",
     "output_type": "stream",
     "text": [
      "配列のshape (2, 5)\n",
      "配列の要素のデータ型 int64\n",
      "配列の中身\n",
      " [[0 1 2 3 4]\n",
      " [5 6 7 8 9]] \n",
      "\n",
      "配列のshape (1, 15)\n",
      "配列の要素のデータ型 int64\n",
      "配列の中身\n",
      " [[0 1 2 3 4 5 6 7 8 9 0 1 2 3 4]] \n",
      "\n"
     ]
    }
   ],
   "source": [
    "concat_a2b2_axis0 = np.concatenate([a2,b2], axis=0)\n",
    "concat_a2b2_axis1 = np.concatenate([a2,b2,a2], axis=1)\n",
    " \n",
    "array_info(concat_a2b2_axis0)\n",
    "array_info(concat_a2b2_axis1)"
   ]
  },
  {
   "cell_type": "code",
   "execution_count": 14,
   "metadata": {},
   "outputs": [
    {
     "data": {
      "text/plain": [
       "array([[ 0,  1,  2,  3,  4],\n",
       "       [10, 11, 12, 13, 14],\n",
       "       [15, 16, 17, 18, 19]])"
      ]
     },
     "execution_count": 14,
     "metadata": {},
     "output_type": "execute_result"
    }
   ],
   "source": [
    "# axisに指定した軸方向に新しい要素を追加するため、axisによっては配列の形状が噛み合わないとエラーが発生します。\n",
    "np.concatenate([a2,c], axis=0)"
   ]
  },
  {
   "cell_type": "code",
   "execution_count": 15,
   "metadata": {},
   "outputs": [
    {
     "ename": "ValueError",
     "evalue": "all the input array dimensions except for the concatenation axis must match exactly",
     "output_type": "error",
     "traceback": [
      "\u001b[0;31m---------------------------------------------------------------------------\u001b[0m",
      "\u001b[0;31mValueError\u001b[0m                                Traceback (most recent call last)",
      "\u001b[0;32m<ipython-input-15-0ebc4fe6d126>\u001b[0m in \u001b[0;36m<module>\u001b[0;34m()\u001b[0m\n\u001b[0;32m----> 1\u001b[0;31m \u001b[0mnp\u001b[0m\u001b[0;34m.\u001b[0m\u001b[0mconcatenate\u001b[0m\u001b[0;34m(\u001b[0m\u001b[0;34m[\u001b[0m\u001b[0ma2\u001b[0m\u001b[0;34m,\u001b[0m\u001b[0mc\u001b[0m\u001b[0;34m]\u001b[0m\u001b[0;34m,\u001b[0m \u001b[0maxis\u001b[0m\u001b[0;34m=\u001b[0m\u001b[0;36m1\u001b[0m\u001b[0;34m)\u001b[0m\u001b[0;34m\u001b[0m\u001b[0m\n\u001b[0m",
      "\u001b[0;31mValueError\u001b[0m: all the input array dimensions except for the concatenation axis must match exactly"
     ]
    }
   ],
   "source": [
    "np.concatenate([a2,c], axis=1)"
   ]
  },
  {
   "cell_type": "code",
   "execution_count": null,
   "metadata": {},
   "outputs": [],
   "source": []
  }
 ],
 "metadata": {
  "kernelspec": {
   "display_name": "Python 3",
   "language": "python",
   "name": "python3"
  },
  "language_info": {
   "codemirror_mode": {
    "name": "ipython",
    "version": 3
   },
   "file_extension": ".py",
   "mimetype": "text/x-python",
   "name": "python",
   "nbconvert_exporter": "python",
   "pygments_lexer": "ipython3",
   "version": "3.5.6"
  }
 },
 "nbformat": 4,
 "nbformat_minor": 2
}
